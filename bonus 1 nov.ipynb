{
 "cells": [
  {
   "cell_type": "code",
   "execution_count": 1,
   "id": "8bfa3292",
   "metadata": {},
   "outputs": [],
   "source": [
    "#comprehensions: list, Disctionary\n"
   ]
  },
  {
   "cell_type": "code",
   "execution_count": 3,
   "id": "e3b2c245",
   "metadata": {},
   "outputs": [
    {
     "data": {
      "text/plain": [
       "[0, 1, 2, 3, 4]"
      ]
     },
     "execution_count": 3,
     "metadata": {},
     "output_type": "execute_result"
    }
   ],
   "source": [
    "l=[i for i in range(5)]\n",
    "l"
   ]
  },
  {
   "cell_type": "code",
   "execution_count": 4,
   "id": "0e7d2aba",
   "metadata": {},
   "outputs": [
    {
     "data": {
      "text/plain": [
       "[0, 2, 4, 6, 8]"
      ]
     },
     "execution_count": 4,
     "metadata": {},
     "output_type": "execute_result"
    }
   ],
   "source": [
    "l=[i for i in range(10)if i%2 ==0]\n",
    "l"
   ]
  },
  {
   "cell_type": "code",
   "execution_count": 6,
   "id": "e29e3979",
   "metadata": {},
   "outputs": [
    {
     "data": {
      "text/plain": [
       "[56]"
      ]
     },
     "execution_count": 6,
     "metadata": {},
     "output_type": "execute_result"
    }
   ],
   "source": [
    "a=[23,45,67,23,89,56,43]\n",
    "l=[x for x in a if x%2 ==0]\n",
    "l"
   ]
  },
  {
   "cell_type": "code",
   "execution_count": 7,
   "id": "6a4026d6",
   "metadata": {},
   "outputs": [
    {
     "data": {
      "text/plain": [
       "['Apple']"
      ]
     },
     "execution_count": 7,
     "metadata": {},
     "output_type": "execute_result"
    }
   ],
   "source": [
    "a=[\"Apple\",\"ball\",\"cat\",\"dog\",\"fish\"]\n",
    "l=[x for x in a if x[0].isupper()]\n",
    "l"
   ]
  },
  {
   "cell_type": "code",
   "execution_count": 8,
   "id": "d4096c08",
   "metadata": {},
   "outputs": [
    {
     "data": {
      "text/plain": [
       "{1: 1, 2: 4, 3: 9, 4: 16, 5: 25, 6: 36, 7: 49, 8: 64, 9: 81, 10: 100}"
      ]
     },
     "execution_count": 8,
     "metadata": {},
     "output_type": "execute_result"
    }
   ],
   "source": [
    "d={i:i**2 for i in range(1,11)}\n",
    "d"
   ]
  },
  {
   "cell_type": "code",
   "execution_count": 10,
   "id": "5d99af97",
   "metadata": {},
   "outputs": [
    {
     "data": {
      "text/plain": [
       "{'Apple': 'apple', 'Ball': 'ball', 'Cat': 'cat', 'Dog': 'dog', 'Fish': 'fish'}"
      ]
     },
     "execution_count": 10,
     "metadata": {},
     "output_type": "execute_result"
    }
   ],
   "source": [
    "a=[\"Apple\",\"Ball\",\"Cat\",\"Dog\",\"Fish\"]\n",
    "d={i:i.lower()for i in a}\n",
    "d"
   ]
  },
  {
   "cell_type": "code",
   "execution_count": 12,
   "id": "171b7a49",
   "metadata": {},
   "outputs": [
    {
     "name": "stdout",
     "output_type": "stream",
     "text": [
      "Enter value=apple\n",
      "Enter value=ball\n",
      "Enter value=cat\n",
      "Enter value=dog\n",
      "Enter value=fish\n"
     ]
    },
    {
     "data": {
      "text/plain": [
       "['apple', 'ball', 'cat', 'dog', 'fish']"
      ]
     },
     "execution_count": 12,
     "metadata": {},
     "output_type": "execute_result"
    }
   ],
   "source": [
    "l=[input(\"Enter value=\")for i in range(5)]\n",
    "l"
   ]
  },
  {
   "cell_type": "code",
   "execution_count": 13,
   "id": "ac7d7c5a",
   "metadata": {},
   "outputs": [
    {
     "name": "stdout",
     "output_type": "stream",
     "text": [
      "enter the name=ram\n",
      "enter phone=9861113277\n",
      "enter the name=sam\n",
      "enter phone=986113255\n"
     ]
    },
    {
     "data": {
      "text/plain": [
       "{'ram': 9861113277, 'sam': 986113255}"
      ]
     },
     "execution_count": 13,
     "metadata": {},
     "output_type": "execute_result"
    }
   ],
   "source": [
    "d={input(\"enter the name=\"):int(input(\"enter phone=\") )for i in range(2)}\n",
    "d"
   ]
  },
  {
   "cell_type": "code",
   "execution_count": 15,
   "id": "1f73fdda",
   "metadata": {},
   "outputs": [
    {
     "name": "stdout",
     "output_type": "stream",
     "text": [
      "2022-11-01 08:33:26.124380\n"
     ]
    }
   ],
   "source": [
    "# date & time\n",
    "\n",
    "import datetime\n",
    "\n",
    "x = datetime.datetime.now()\n",
    "print(x)"
   ]
  },
  {
   "cell_type": "code",
   "execution_count": 17,
   "id": "d611203d",
   "metadata": {},
   "outputs": [
    {
     "name": "stdout",
     "output_type": "stream",
     "text": [
      "Tue\n"
     ]
    }
   ],
   "source": [
    "import datetime\n",
    "\n",
    "x = datetime.datetime.now()\n",
    "\n",
    "print(x.strftime(\"%a\"))"
   ]
  },
  {
   "cell_type": "code",
   "execution_count": 18,
   "id": "6f874a01",
   "metadata": {},
   "outputs": [
    {
     "name": "stdout",
     "output_type": "stream",
     "text": [
      "Nov\n"
     ]
    }
   ],
   "source": [
    "import datetime\n",
    "\n",
    "x = datetime.datetime.now()\n",
    "\n",
    "print(x.strftime(\"%b\"))"
   ]
  },
  {
   "cell_type": "code",
   "execution_count": 20,
   "id": "8f5882d5",
   "metadata": {},
   "outputs": [
    {
     "name": "stdout",
     "output_type": "stream",
     "text": [
      "01\n"
     ]
    }
   ],
   "source": [
    "import datetime\n",
    "\n",
    "x = datetime.datetime.now()\n",
    "\n",
    "print(x.strftime(\"%d\"))"
   ]
  },
  {
   "cell_type": "code",
   "execution_count": 23,
   "id": "bda5a524",
   "metadata": {},
   "outputs": [
    {
     "name": "stdout",
     "output_type": "stream",
     "text": [
      "enter value=nice\n",
      "0:00:01.320262\n"
     ]
    }
   ],
   "source": [
    "import datetime\n",
    "\n",
    "x = datetime.datetime.now()\n",
    "value=input(\"enter value=\")\n",
    "y=datetime.datetime.now()\n",
    "print(y-x)"
   ]
  },
  {
   "cell_type": "code",
   "execution_count": 24,
   "id": "7074c978",
   "metadata": {},
   "outputs": [],
   "source": [
    "# os package\n",
    "import os\n",
    "# listdir()  mkdir()  chdir()  remove()  rmdir()  rename()"
   ]
  },
  {
   "cell_type": "code",
   "execution_count": 25,
   "id": "04064067",
   "metadata": {},
   "outputs": [
    {
     "data": {
      "text/plain": [
       "['.ipynb_checkpoints',\n",
       " '11 oct  remove del count append search .ipynb',\n",
       " '18 oct file.ipynb',\n",
       " '19 oct pandas.ipynb',\n",
       " '20 oct .ipynb',\n",
       " '21 oct sql connector.ipynb',\n",
       " '22 sep control statement break and continue.ipynb',\n",
       " '23 sep while loop.ipynb',\n",
       " '26 SEP (string,replace,search,formatting).ipynb',\n",
       " 'bill.csv',\n",
       " 'bonus 1 nov.ipynb',\n",
       " 'data.csv',\n",
       " 'data.txt',\n",
       " 'loops 21 sep.ipynb',\n",
       " 'new_data.csv',\n",
       " 'new_datas.json',\n",
       " 'new_file.txt',\n",
       " 'oct 10 list.ipynb',\n",
       " 'sep 20 tuesday if elif else.ipynb',\n",
       " 'test .ipynb']"
      ]
     },
     "execution_count": 25,
     "metadata": {},
     "output_type": "execute_result"
    }
   ],
   "source": [
    "os.listdir()"
   ]
  },
  {
   "cell_type": "code",
   "execution_count": 26,
   "id": "53aeb5d6",
   "metadata": {},
   "outputs": [
    {
     "data": {
      "text/plain": [
       "['.ipynb_checkpoints',\n",
       " '11 oct  remove del count append search .ipynb',\n",
       " '18 oct file.ipynb',\n",
       " '19 oct pandas.ipynb',\n",
       " '20 oct .ipynb',\n",
       " '21 oct sql connector.ipynb',\n",
       " '22 sep control statement break and continue.ipynb',\n",
       " '23 sep while loop.ipynb',\n",
       " '26 SEP (string,replace,search,formatting).ipynb',\n",
       " 'bill.csv',\n",
       " 'bonus 1 nov.ipynb',\n",
       " 'data.csv',\n",
       " 'data.txt',\n",
       " 'loops 21 sep.ipynb',\n",
       " 'new floder',\n",
       " 'new_data.csv',\n",
       " 'new_datas.json',\n",
       " 'new_file.txt',\n",
       " 'oct 10 list.ipynb',\n",
       " 'sep 20 tuesday if elif else.ipynb',\n",
       " 'test .ipynb']"
      ]
     },
     "execution_count": 26,
     "metadata": {},
     "output_type": "execute_result"
    }
   ],
   "source": [
    "os.mkdir('new floder')\n",
    "os.listdir()"
   ]
  },
  {
   "cell_type": "code",
   "execution_count": 28,
   "id": "9337f5ec",
   "metadata": {},
   "outputs": [],
   "source": [
    "os.chdir('new floder')"
   ]
  },
  {
   "cell_type": "code",
   "execution_count": 29,
   "id": "d4962386",
   "metadata": {},
   "outputs": [
    {
     "data": {
      "text/plain": [
       "'C:\\\\Users\\\\gaura\\\\python\\\\new floder'"
      ]
     },
     "execution_count": 29,
     "metadata": {},
     "output_type": "execute_result"
    }
   ],
   "source": [
    "pwd"
   ]
  },
  {
   "cell_type": "code",
   "execution_count": 30,
   "id": "851acdfb",
   "metadata": {},
   "outputs": [
    {
     "name": "stdout",
     "output_type": "stream",
     "text": [
      "C:\\Users\\gaura\\python\n"
     ]
    }
   ],
   "source": [
    "cd .."
   ]
  },
  {
   "cell_type": "code",
   "execution_count": 33,
   "id": "16b47cf9",
   "metadata": {},
   "outputs": [
    {
     "data": {
      "text/plain": [
       "['.ipynb_checkpoints',\n",
       " '11 oct  remove del count append search .ipynb',\n",
       " '18 oct file.ipynb',\n",
       " '19 oct pandas.ipynb',\n",
       " '20 oct .ipynb',\n",
       " '21 oct sql connector.ipynb',\n",
       " '22 sep control statement break and continue.ipynb',\n",
       " '23 sep while loop.ipynb',\n",
       " '26 SEP (string,replace,search,formatting).ipynb',\n",
       " 'bill.csv',\n",
       " 'bonus 1 nov.ipynb',\n",
       " 'data.txt',\n",
       " 'loops 21 sep.ipynb',\n",
       " 'new floder',\n",
       " 'new_data.csv',\n",
       " 'new_datas.json',\n",
       " 'new_file.txt',\n",
       " 'oct 10 list.ipynb',\n",
       " 'sep 20 tuesday if elif else.ipynb',\n",
       " 'test .ipynb']"
      ]
     },
     "execution_count": 33,
     "metadata": {},
     "output_type": "execute_result"
    }
   ],
   "source": [
    "os.listdir()\n",
    "os.remove('data.csv')\n",
    "os.listdir()"
   ]
  },
  {
   "cell_type": "code",
   "execution_count": null,
   "id": "4a3e279d",
   "metadata": {},
   "outputs": [],
   "source": []
  }
 ],
 "metadata": {
  "kernelspec": {
   "display_name": "Python 3 (ipykernel)",
   "language": "python",
   "name": "python3"
  },
  "language_info": {
   "codemirror_mode": {
    "name": "ipython",
    "version": 3
   },
   "file_extension": ".py",
   "mimetype": "text/x-python",
   "name": "python",
   "nbconvert_exporter": "python",
   "pygments_lexer": "ipython3",
   "version": "3.9.12"
  }
 },
 "nbformat": 4,
 "nbformat_minor": 5
}
