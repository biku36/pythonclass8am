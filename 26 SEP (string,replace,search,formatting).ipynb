{
 "cells": [
  {
   "cell_type": "code",
   "execution_count": 1,
   "id": "a11ba5cb",
   "metadata": {},
   "outputs": [],
   "source": [
    "#string"
   ]
  },
  {
   "cell_type": "code",
   "execution_count": 2,
   "id": "79c91daa",
   "metadata": {},
   "outputs": [
    {
     "name": "stdout",
     "output_type": "stream",
     "text": [
      "<class 'str'>\n",
      "<class 'str'>\n",
      "<class 'str'>\n"
     ]
    }
   ],
   "source": [
    "a='hello world'\n",
    "b=\"hello world\"\n",
    "c='''hello world'''\n",
    "\n",
    "print(type(a))\n",
    "print(type(b))\n",
    "print(type(c))"
   ]
  },
  {
   "cell_type": "code",
   "execution_count": 3,
   "id": "168996c1",
   "metadata": {},
   "outputs": [],
   "source": [
    "# + *"
   ]
  },
  {
   "cell_type": "code",
   "execution_count": 5,
   "id": "b43fb387",
   "metadata": {},
   "outputs": [
    {
     "name": "stdout",
     "output_type": "stream",
     "text": [
      "hello world\n",
      "hello world\n",
      "\n"
     ]
    }
   ],
   "source": [
    "a=\"hello world\\n\"\n",
    "print(a*2)"
   ]
  },
  {
   "cell_type": "code",
   "execution_count": 7,
   "id": "57385ccc",
   "metadata": {},
   "outputs": [
    {
     "name": "stdout",
     "output_type": "stream",
     "text": [
      "hello world\n"
     ]
    }
   ],
   "source": [
    "a=\"hello \"\n",
    "b=\"world\"\n",
    "c=a+b\n",
    "print(c)"
   ]
  },
  {
   "cell_type": "code",
   "execution_count": 8,
   "id": "351930b9",
   "metadata": {},
   "outputs": [
    {
     "data": {
      "text/plain": [
       "'h'"
      ]
     },
     "execution_count": 8,
     "metadata": {},
     "output_type": "execute_result"
    }
   ],
   "source": [
    "a=\"hello world\"\n",
    "a[0]"
   ]
  },
  {
   "cell_type": "code",
   "execution_count": 10,
   "id": "9d4017e9",
   "metadata": {},
   "outputs": [
    {
     "data": {
      "text/plain": [
       "'hello'"
      ]
     },
     "execution_count": 10,
     "metadata": {},
     "output_type": "execute_result"
    }
   ],
   "source": [
    "a=\"hello world\"\n",
    "b=a[0:5]\n",
    "b"
   ]
  },
  {
   "cell_type": "code",
   "execution_count": 11,
   "id": "ef87ef20",
   "metadata": {},
   "outputs": [
    {
     "data": {
      "text/plain": [
       "'hlowrd'"
      ]
     },
     "execution_count": 11,
     "metadata": {},
     "output_type": "execute_result"
    }
   ],
   "source": [
    "a=\"hello world\"\n",
    "b=a[0:11:2]\n",
    "b"
   ]
  },
  {
   "cell_type": "code",
   "execution_count": 5,
   "id": "41a4b2a2",
   "metadata": {},
   "outputs": [
    {
     "data": {
      "text/plain": [
       "'dlrow olle'"
      ]
     },
     "execution_count": 5,
     "metadata": {},
     "output_type": "execute_result"
    }
   ],
   "source": [
    "a=\"hello world\"\n",
    "b=a[100:0:-1]\n",
    "b"
   ]
  },
  {
   "cell_type": "code",
   "execution_count": 13,
   "id": "ce89f380",
   "metadata": {},
   "outputs": [
    {
     "data": {
      "text/plain": [
       "'dlrow olleh'"
      ]
     },
     "execution_count": 13,
     "metadata": {},
     "output_type": "execute_result"
    }
   ],
   "source": [
    "a=\"hello world\"\n",
    "b=a[::-1]\n",
    "b"
   ]
  },
  {
   "cell_type": "code",
   "execution_count": 14,
   "id": "eff95a27",
   "metadata": {},
   "outputs": [
    {
     "data": {
      "text/plain": [
       "'hello my name is ram,I am 34,'"
      ]
     },
     "execution_count": 14,
     "metadata": {},
     "output_type": "execute_result"
    }
   ],
   "source": [
    "#string formatting\n",
    "name=\"ram\"\n",
    "age=34\n",
    "date=f\"hello my name is {name},I am {age},\"\n",
    "date"
   ]
  },
  {
   "cell_type": "code",
   "execution_count": 17,
   "id": "6591756b",
   "metadata": {},
   "outputs": [
    {
     "name": "stdout",
     "output_type": "stream",
     "text": [
      "enter name=ram\n",
      "enter age=25\n",
      "enter add=ktm\n"
     ]
    },
    {
     "data": {
      "text/plain": [
       "'hello i am ram, I am from ktm, I am 25,'"
      ]
     },
     "execution_count": 17,
     "metadata": {},
     "output_type": "execute_result"
    }
   ],
   "source": [
    "name=input(\"enter name=\")\n",
    "age=int(input(\"enter age=\"))\n",
    "add=input(\"enter add=\")\n",
    "data=f\"hello i am {name}, I am from {add}, I am {age},\"\n",
    "data"
   ]
  },
  {
   "cell_type": "code",
   "execution_count": 20,
   "id": "3fb2f864",
   "metadata": {},
   "outputs": [
    {
     "name": "stdout",
     "output_type": "stream",
     "text": [
      "enter n=2\n",
      "enter name=apple\n",
      "enter price=200\n",
      "enter quantity=10\n",
      "apple 200 10 2000\n",
      "\n",
      "enter name=banana\n",
      "enter price=300\n",
      "enter quantity=20\n",
      "apple 200 10 2000\n",
      "banana 300 20 6000\n",
      "\n"
     ]
    }
   ],
   "source": [
    "s=str()\n",
    "n=int(input(\"enter n=\"))\n",
    "for i in range(n):\n",
    "    name=input(\"enter name=\")\n",
    "    price=int(input(\"enter price=\"))\n",
    "    quantity=int(input(\"enter quantity=\"))\n",
    "    total=price*quantity\n",
    "    bill=f\"{name} {price} {quantity} {total}\\n\"\n",
    "    s=s+bill\n",
    "    \n",
    "    print(s)"
   ]
  },
  {
   "cell_type": "code",
   "execution_count": 21,
   "id": "517b3093",
   "metadata": {},
   "outputs": [
    {
     "data": {
      "text/plain": [
       "'apple 200 10 2000\\nbanana 300 20 6000\\n'"
      ]
     },
     "execution_count": 21,
     "metadata": {},
     "output_type": "execute_result"
    }
   ],
   "source": [
    "s"
   ]
  },
  {
   "cell_type": "code",
   "execution_count": 22,
   "id": "d3ab7d99",
   "metadata": {},
   "outputs": [
    {
     "name": "stdout",
     "output_type": "stream",
     "text": [
      "r\n",
      "a\n",
      "m\n",
      " \n",
      "s\n",
      "i\n",
      "t\n",
      "a\n",
      " \n",
      "h\n",
      "a\n",
      "r\n",
      "i\n",
      " \n",
      "d\n",
      "a\n",
      "j\n",
      "u\n",
      " \n",
      "d\n",
      "o\n",
      "n\n",
      " \n",
      "r\n",
      "a\n",
      "m\n",
      "e\n",
      "s\n",
      "h\n"
     ]
    }
   ],
   "source": [
    "s=\"ram sita hari daju don ramesh\"\n",
    "for i in s:\n",
    "    print(i)"
   ]
  },
  {
   "cell_type": "code",
   "execution_count": 23,
   "id": "1d3745c2",
   "metadata": {},
   "outputs": [
    {
     "name": "stdout",
     "output_type": "stream",
     "text": [
      "ram sita hari daju don ramesh"
     ]
    }
   ],
   "source": [
    "s=\"ram sita hari daju don ramesh\"\n",
    "for i in s:\n",
    "    print(i,end =\"\")"
   ]
  },
  {
   "cell_type": "code",
   "execution_count": 26,
   "id": "d1d2f5f9",
   "metadata": {},
   "outputs": [
    {
     "data": {
      "text/plain": [
       "True"
      ]
     },
     "execution_count": 26,
     "metadata": {},
     "output_type": "execute_result"
    }
   ],
   "source": [
    "s=\"ram sita hari daju don ramesh\"\n",
    "\"ram\" in s"
   ]
  },
  {
   "cell_type": "code",
   "execution_count": 29,
   "id": "f8ecdc1b",
   "metadata": {},
   "outputs": [
    {
     "name": "stdout",
     "output_type": "stream",
     "text": [
      "yes\n"
     ]
    }
   ],
   "source": [
    "s=\"ram sita hari daju don ramesh\"\n",
    "if \"ram\" in s:\n",
    "    print(\"yes\")\n",
    "else:\n",
    "        print(\"no\")"
   ]
  },
  {
   "cell_type": "code",
   "execution_count": 30,
   "id": "167f12df",
   "metadata": {},
   "outputs": [
    {
     "name": "stdout",
     "output_type": "stream",
     "text": [
      "enter s=ram\n",
      "yes\n"
     ]
    }
   ],
   "source": [
    "s=\"ram sita hari daju don ramesh\"\n",
    "search= input(\"enter s=\")\n",
    "if search in s:\n",
    "    print(\"yes\")\n",
    "else:\n",
    "        print(\"no\")"
   ]
  },
  {
   "cell_type": "code",
   "execution_count": 36,
   "id": "6568ee1c",
   "metadata": {},
   "outputs": [
    {
     "name": "stdout",
     "output_type": "stream",
     "text": [
      "enter s=hari\n",
      "yes\n",
      "1\n"
     ]
    }
   ],
   "source": [
    "s=\"Ram sita hari daju don ramesh\"\n",
    "search= input(\"enter s=\")\n",
    "if search in s:\n",
    "    print(\"yes\")\n",
    "    print(s.count(search))\n",
    "else:\n",
    "        print(\"no\")"
   ]
  },
  {
   "cell_type": "code",
   "execution_count": 39,
   "id": "355c0173",
   "metadata": {},
   "outputs": [
    {
     "name": "stdout",
     "output_type": "stream",
     "text": [
      "RAM SITA HARI DAJU DON RAMESH\n",
      "Ram sita hari daju don ramesh\n"
     ]
    }
   ],
   "source": [
    "s=\"Ram sita hari daju don ramesh\"\n",
    "print(s.upper())\n",
    "print(s)"
   ]
  },
  {
   "cell_type": "code",
   "execution_count": 38,
   "id": "f1036af3",
   "metadata": {},
   "outputs": [
    {
     "data": {
      "text/plain": [
       "'ram sita hari daju don ramesh'"
      ]
     },
     "execution_count": 38,
     "metadata": {},
     "output_type": "execute_result"
    }
   ],
   "source": [
    "s=\"Ram sita hari daju don ramesh\"\n",
    "s.lower()"
   ]
  },
  {
   "cell_type": "code",
   "execution_count": 40,
   "id": "cae4ea08",
   "metadata": {},
   "outputs": [
    {
     "data": {
      "text/plain": [
       "'RAM SITA HARI DAJU DON RAMESH'"
      ]
     },
     "execution_count": 40,
     "metadata": {},
     "output_type": "execute_result"
    }
   ],
   "source": [
    "s=\"Ram sita hari daju don ramesh\"\n",
    "s.upper()"
   ]
  },
  {
   "cell_type": "code",
   "execution_count": 1,
   "id": "b8fae428",
   "metadata": {},
   "outputs": [
    {
     "ename": "NameError",
     "evalue": "name 'b' is not defined",
     "output_type": "error",
     "traceback": [
      "\u001b[1;31m---------------------------------------------------------------------------\u001b[0m",
      "\u001b[1;31mNameError\u001b[0m                                 Traceback (most recent call last)",
      "Input \u001b[1;32mIn [1]\u001b[0m, in \u001b[0;36m<cell line: 2>\u001b[1;34m()\u001b[0m\n\u001b[0;32m      1\u001b[0m a\u001b[38;5;241m=\u001b[39m\u001b[38;5;124m\"\u001b[39m\u001b[38;5;124mram sita hari daju don ramesh\u001b[39m\u001b[38;5;124m\"\u001b[39m\n\u001b[1;32m----> 2\u001b[0m \u001b[43mb\u001b[49m\u001b[38;5;241m.\u001b[39mtitle()\n",
      "\u001b[1;31mNameError\u001b[0m: name 'b' is not defined"
     ]
    }
   ],
   "source": [
    "a=\"ram sita hari daju don ramesh\"\n",
    "b.title()"
   ]
  },
  {
   "cell_type": "code",
   "execution_count": 6,
   "id": "83bdd428",
   "metadata": {},
   "outputs": [
    {
     "name": "stdout",
     "output_type": "stream",
     "text": [
      "RAM SITA HARI DAJU DON RAMESH\n"
     ]
    }
   ],
   "source": [
    "s=\"Ram sita hari daju don ramesh\"\n",
    "s=s.upper()\n",
    "print(s)"
   ]
  },
  {
   "cell_type": "code",
   "execution_count": 43,
   "id": "3b6c7f38",
   "metadata": {},
   "outputs": [
    {
     "name": "stdout",
     "output_type": "stream",
     "text": [
      "enter s=ram\n",
      "yes\n",
      "2\n"
     ]
    }
   ],
   "source": [
    "s=\"Ram sita hari daju don ramesh\".lower()\n",
    "search= input(\"enter s=\").lower()\n",
    "if search in s:\n",
    "    print(\"yes\")\n",
    "    print(s.count(search))\n",
    "else:\n",
    "        print(\"no\")"
   ]
  },
  {
   "cell_type": "code",
   "execution_count": 46,
   "id": "25c27578",
   "metadata": {},
   "outputs": [
    {
     "name": "stdout",
     "output_type": "stream",
     "text": [
      "enter s=ram\n",
      "yes\n",
      "2\n"
     ]
    }
   ],
   "source": [
    "s=\"Ram sita hari daju don ramesh\".upper()\n",
    "search= input(\"enter s=\").upper()\n",
    "if search in s:\n",
    "    print(\"yes\")\n",
    "    print(s.count(search))\n",
    "else:\n",
    "        print(\"no\")"
   ]
  },
  {
   "cell_type": "code",
   "execution_count": 47,
   "id": "42830ff7",
   "metadata": {},
   "outputs": [
    {
     "data": {
      "text/plain": [
       "'Ram sita HARI daju don ramesh'"
      ]
     },
     "execution_count": 47,
     "metadata": {},
     "output_type": "execute_result"
    }
   ],
   "source": [
    "#replace()\n",
    "s=\"Ram sita hari daju don ramesh\"\n",
    "s.replace('hari','HARI')"
   ]
  },
  {
   "cell_type": "code",
   "execution_count": 49,
   "id": "a11a57ce",
   "metadata": {},
   "outputs": [
    {
     "data": {
      "text/plain": [
       "'Ram sita BABA daju don ramesh'"
      ]
     },
     "execution_count": 49,
     "metadata": {},
     "output_type": "execute_result"
    }
   ],
   "source": [
    "s=\"Ram sita hari daju don ramesh\"\n",
    "S=s.replace('hari','BABA')\n",
    "S"
   ]
  },
  {
   "cell_type": "code",
   "execution_count": 50,
   "id": "a42780e5",
   "metadata": {},
   "outputs": [
    {
     "data": {
      "text/plain": [
       "'Ram sita  daju don ramesh'"
      ]
     },
     "execution_count": 50,
     "metadata": {},
     "output_type": "execute_result"
    }
   ],
   "source": [
    "s=\"Ram sita hari daju don ramesh\"\n",
    "S=s.replace('hari','')\n",
    "S"
   ]
  },
  {
   "cell_type": "code",
   "execution_count": 52,
   "id": "c3d71d46",
   "metadata": {},
   "outputs": [
    {
     "data": {
      "text/plain": [
       "['Ram', 'sita', 'hari', 'daju', 'don', 'ramesh']"
      ]
     },
     "execution_count": 52,
     "metadata": {},
     "output_type": "execute_result"
    }
   ],
   "source": [
    "s=\"Ram sita hari daju don ramesh\"\n",
    "s.split()"
   ]
  },
  {
   "cell_type": "code",
   "execution_count": 1,
   "id": "3fc22b23",
   "metadata": {},
   "outputs": [
    {
     "name": "stdout",
     "output_type": "stream",
     "text": [
      "Enter the no=5\n",
      "world\n"
     ]
    }
   ],
   "source": [
    "n=int(input(\"Enter the no=\"))\n",
    "if n>5:\n",
    "    print(\"Hello\")\n",
    "else:\n",
    "    print(\"world\")"
   ]
  },
  {
   "cell_type": "code",
   "execution_count": null,
   "id": "5665e2d5",
   "metadata": {},
   "outputs": [],
   "source": []
  }
 ],
 "metadata": {
  "kernelspec": {
   "display_name": "Python 3 (ipykernel)",
   "language": "python",
   "name": "python3"
  },
  "language_info": {
   "codemirror_mode": {
    "name": "ipython",
    "version": 3
   },
   "file_extension": ".py",
   "mimetype": "text/x-python",
   "name": "python",
   "nbconvert_exporter": "python",
   "pygments_lexer": "ipython3",
   "version": "3.9.12"
  }
 },
 "nbformat": 4,
 "nbformat_minor": 5
}
