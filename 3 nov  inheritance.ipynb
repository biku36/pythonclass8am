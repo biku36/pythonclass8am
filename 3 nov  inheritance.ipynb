{
 "cells": [
  {
   "cell_type": "code",
   "execution_count": 3,
   "id": "1bf44a4a",
   "metadata": {},
   "outputs": [
    {
     "name": "stdout",
     "output_type": "stream",
     "text": [
      "enter name=bikesh\n",
      "enter age=26\n",
      "hello i am bikesh. I am 26\n"
     ]
    }
   ],
   "source": [
    "# inheritance\n",
    "\n",
    "class A:\n",
    "    def __init__(self):\n",
    "        self.name=input(\"enter name=\")\n",
    "        self.age=int(input(\"enter age=\"))\n",
    "        \n",
    "class B(A):\n",
    "    def info(self):\n",
    "        print(f\"hello i am {self.name}. I am {self.age}\")\n",
    "              \n",
    "obj=B()\n",
    "obj.info()        "
   ]
  },
  {
   "cell_type": "code",
   "execution_count": 6,
   "id": "a3bd3990",
   "metadata": {},
   "outputs": [
    {
     "name": "stdout",
     "output_type": "stream",
     "text": [
      "enter name=anup\n",
      "enter age=20\n",
      "hello i am anup. I own 20 property\n",
      "('anup', 20)\n"
     ]
    }
   ],
   "source": [
    "class A:\n",
    "    def __init__(self):\n",
    "        self.name=input(\"enter name=\")\n",
    "        self.age=int(input(\"enter age=\"))\n",
    "        \n",
    "    def infos(self):\n",
    "        return self.name,self.age\n",
    "        \n",
    "class B(A):\n",
    "    def info(self):\n",
    "        print(f\"hello i am {self.name}. I own {self.age} property\")\n",
    "              \n",
    "obj=B()\n",
    "obj.info()\n",
    "print(obj.infos())"
   ]
  },
  {
   "cell_type": "code",
   "execution_count": 8,
   "id": "0e4ccbf5",
   "metadata": {},
   "outputs": [
    {
     "name": "stdout",
     "output_type": "stream",
     "text": [
      "enter name=biku\n",
      "enter age=20\n",
      "enter name=sas\n",
      "enter age=66\n",
      "hello i am biku. I own 20 property\n",
      "('biku', 20)\n"
     ]
    }
   ],
   "source": [
    "class A:\n",
    "    def __init__(self):\n",
    "        self.name=input(\"enter name=\")\n",
    "        self.age=int(input(\"enter age=\"))\n",
    "        \n",
    "    def infos(self):\n",
    "        return self.name,self.age\n",
    "        \n",
    "class B(A):\n",
    "    def info(self):\n",
    "        print(f\"hello i am {self.name}. I own {self.age} property\")\n",
    "              \n",
    "obj=B()\n",
    "obj1=A()\n",
    "obj.info()\n",
    "print(obj.infos())"
   ]
  },
  {
   "cell_type": "code",
   "execution_count": 11,
   "id": "8547df9b",
   "metadata": {},
   "outputs": [
    {
     "name": "stdout",
     "output_type": "stream",
     "text": [
      "enter name=habbi come to dubai\n",
      "enter age=20\n",
      "hello i am habbi come to dubai. I own 20 property\n",
      "('habbi come to dubai', 20)\n"
     ]
    }
   ],
   "source": [
    "class A:\n",
    "    def __init__(self,name,age):\n",
    "        self.name=name\n",
    "        self.age=age\n",
    "        \n",
    "    def infos(self):\n",
    "        return self.name,self.age\n",
    "        \n",
    "class B(A):\n",
    "    def info(self):\n",
    "        print(f\"hello i am {self.name}. I own {self.age} property\")\n",
    "        \n",
    "name=input(\"enter name=\")\n",
    "age=int(input(\"enter age=\"))\n",
    "              \n",
    "obj=B(name,age)\n",
    "obj.info()\n",
    "print(obj.infos())"
   ]
  },
  {
   "cell_type": "code",
   "execution_count": 18,
   "id": "a10edbc1",
   "metadata": {},
   "outputs": [
    {
     "name": "stdout",
     "output_type": "stream",
     "text": [
      "enter name=ram\n",
      "enter age=50\n",
      "enter address=dubai\n",
      "HEY ram. I own 50 property. THAY LIVE IN dubai\n",
      "('ram', 50)\n"
     ]
    }
   ],
   "source": [
    "class A:\n",
    "    def __init__(self,name,age):\n",
    "        self.name=name\n",
    "        self.age=age\n",
    "        \n",
    "    def infos(self):\n",
    "        return self.name,self.age\n",
    "        \n",
    "class B(A):\n",
    "    def __init__(self,name,age,address):\n",
    "        self.address=address\n",
    "        A.__init__(self,name,age)\n",
    "        \n",
    "        \n",
    "    def info(self):\n",
    "        print(f\"HEY {self.name}. I own {self.age} property. THAY LIVE IN {address}\")\n",
    "        \n",
    "name=input(\"enter name=\")\n",
    "age=int(input(\"enter age=\"))\n",
    "address=input(\"enter address=\")\n",
    "\n",
    "\n",
    "obj=B(name,age,address)\n",
    "obj.info()\n",
    "print(obj.infos())"
   ]
  },
  {
   "cell_type": "code",
   "execution_count": 19,
   "id": "3306a5ba",
   "metadata": {},
   "outputs": [
    {
     "ename": "SyntaxError",
     "evalue": "invalid syntax (3971008286.py, line 4)",
     "output_type": "error",
     "traceback": [
      "\u001b[1;36m  Input \u001b[1;32mIn [19]\u001b[1;36m\u001b[0m\n\u001b[1;33m    class B(A)\u001b[0m\n\u001b[1;37m              ^\u001b[0m\n\u001b[1;31mSyntaxError\u001b[0m\u001b[1;31m:\u001b[0m invalid syntax\n"
     ]
    }
   ],
   "source": [
    "class A:\n",
    "    pass\n",
    "\n",
    "class B(A)\n",
    "    pass\n",
    "class C(B)\n",
    "    pass\n",
    "obj=C()"
   ]
  },
  {
   "cell_type": "code",
   "execution_count": null,
   "id": "908ac576",
   "metadata": {},
   "outputs": [],
   "source": [
    "class A:\n",
    "    pass\n",
    "\n",
    "class B:\n",
    "    pass\n",
    "\n",
    "class C(A,B):\n",
    "    pass\n",
    "obj=c()"
   ]
  },
  {
   "cell_type": "code",
   "execution_count": 1,
   "id": "ee1d02fa",
   "metadata": {
    "scrolled": true
   },
   "outputs": [
    {
     "name": "stdout",
     "output_type": "stream",
     "text": [
      "enter name=ram\n",
      "enter age=44\n",
      "enter address=ktm\n"
     ]
    },
    {
     "ename": "AttributeError",
     "evalue": "'C' object has no attribute 'name'",
     "output_type": "error",
     "traceback": [
      "\u001b[1;31m---------------------------------------------------------------------------\u001b[0m",
      "\u001b[1;31mAttributeError\u001b[0m                            Traceback (most recent call last)",
      "Input \u001b[1;32mIn [1]\u001b[0m, in \u001b[0;36m<cell line: 28>\u001b[1;34m()\u001b[0m\n\u001b[0;32m     24\u001b[0m age\u001b[38;5;241m=\u001b[39m\u001b[38;5;28mint\u001b[39m(\u001b[38;5;28minput\u001b[39m(\u001b[38;5;124m\"\u001b[39m\u001b[38;5;124menter age=\u001b[39m\u001b[38;5;124m\"\u001b[39m))\n\u001b[0;32m     25\u001b[0m address\u001b[38;5;241m=\u001b[39m\u001b[38;5;28minput\u001b[39m(\u001b[38;5;124m\"\u001b[39m\u001b[38;5;124menter address=\u001b[39m\u001b[38;5;124m\"\u001b[39m)\n\u001b[1;32m---> 28\u001b[0m obj\u001b[38;5;241m=\u001b[39m\u001b[43mC\u001b[49m\u001b[43m(\u001b[49m\u001b[43mname\u001b[49m\u001b[43m,\u001b[49m\u001b[43mage\u001b[49m\u001b[43m,\u001b[49m\u001b[43maddress\u001b[49m\u001b[43m)\u001b[49m\n\u001b[0;32m     29\u001b[0m obj\u001b[38;5;241m.\u001b[39minfo()\n\u001b[0;32m     30\u001b[0m \u001b[38;5;28mprint\u001b[39m(obj\u001b[38;5;241m.\u001b[39minfos())\n",
      "Input \u001b[1;32mIn [1]\u001b[0m, in \u001b[0;36mC.__init__\u001b[1;34m(self, name, age, address)\u001b[0m\n\u001b[0;32m     15\u001b[0m \u001b[38;5;28;01mdef\u001b[39;00m \u001b[38;5;21m__init__\u001b[39m(\u001b[38;5;28mself\u001b[39m,name,age,address):\n\u001b[0;32m     16\u001b[0m     \u001b[38;5;28mself\u001b[39m\u001b[38;5;241m.\u001b[39maddress\u001b[38;5;241m=\u001b[39maddress\n\u001b[1;32m---> 17\u001b[0m     \u001b[43mB\u001b[49m\u001b[38;5;241;43m.\u001b[39;49m\u001b[38;5;21;43m__init__\u001b[39;49m\u001b[43m(\u001b[49m\u001b[38;5;28;43mself\u001b[39;49m\u001b[43m,\u001b[49m\u001b[43mname\u001b[49m\u001b[43m,\u001b[49m\u001b[43mage\u001b[49m\u001b[43m)\u001b[49m\n",
      "Input \u001b[1;32mIn [1]\u001b[0m, in \u001b[0;36mB.__init__\u001b[1;34m(self, name, age)\u001b[0m\n\u001b[0;32m     10\u001b[0m \u001b[38;5;28;01mdef\u001b[39;00m \u001b[38;5;21m__init__\u001b[39m(\u001b[38;5;28mself\u001b[39m,name,age):\n\u001b[0;32m     11\u001b[0m     \u001b[38;5;28mself\u001b[39m\u001b[38;5;241m.\u001b[39mage\u001b[38;5;241m=\u001b[39mage\n\u001b[1;32m---> 12\u001b[0m     A\u001b[38;5;241m.\u001b[39m\u001b[38;5;21m__init__\u001b[39m(\u001b[38;5;28;43mself\u001b[39;49m\u001b[38;5;241;43m.\u001b[39;49m\u001b[43mname\u001b[49m)\n",
      "\u001b[1;31mAttributeError\u001b[0m: 'C' object has no attribute 'name'"
     ]
    }
   ],
   "source": [
    "class A:\n",
    "    def __init__(self,name,age):\n",
    "        self.name=name\n",
    "        self.age=age\n",
    "        \n",
    "    def infos(self):\n",
    "        return self.name,self.age\n",
    "\n",
    "class B(A):\n",
    "    def __init__(self,name,age):\n",
    "        self.age=age\n",
    "        A.__init__(self.name)\n",
    "    \n",
    "class C(B):\n",
    "    def __init__(self,name,age,address):\n",
    "        self.address=address\n",
    "        B.__init__(self,name,age)\n",
    "        \n",
    "        \n",
    "    def info(self):\n",
    "        print(f\"HEY {self.name}. I own {self.age} property. THAY LIVE IN {address}\")\n",
    "        \n",
    "name=input(\"enter name=\")\n",
    "age=int(input(\"enter age=\"))\n",
    "address=input(\"enter address=\")\n",
    "\n",
    "\n",
    "obj=C(name,age,address)\n",
    "obj.info()\n",
    "print(obj.infos())"
   ]
  },
  {
   "cell_type": "code",
   "execution_count": 10,
   "id": "309a7da3",
   "metadata": {},
   "outputs": [
    {
     "name": "stdout",
     "output_type": "stream",
     "text": [
      "enter add=ktm\n",
      "enter name=bikuj\n",
      "enter age=66\n",
      "hello i am bikuj.i am 66.i live in ktm\n",
      "bikuj\n"
     ]
    }
   ],
   "source": [
    "class A:\n",
    "    def __init__(self):\n",
    "        self.name=input(\"enter name=\")\n",
    "        \n",
    "    def infos(self):\n",
    "        return self.name\n",
    "    \n",
    "class B:\n",
    "    def __init__(self):\n",
    "        self.age=int(input(\"enter age=\"))\n",
    "        \n",
    "class C(A,B):\n",
    "    def __init__(self):\n",
    "        self.add =input(\"enter add=\")\n",
    "        A.__init__(self)\n",
    "        B.__init__(self)\n",
    "        \n",
    "    def info(self):\n",
    "        \n",
    "        print(f\"hello i am {self.name}.i am {self.age}.i live in {self.add}\")\n",
    "    \n",
    "obj=C()\n",
    "obj.info()\n",
    "print(obj.infos())"
   ]
  },
  {
   "cell_type": "code",
   "execution_count": 13,
   "id": "bad69c0d",
   "metadata": {},
   "outputs": [
    {
     "name": "stdout",
     "output_type": "stream",
     "text": [
      "ram 35 ktm\n"
     ]
    }
   ],
   "source": [
    "# public members\n",
    "\n",
    "class info:\n",
    "    def __init__(self,name,age,add):\n",
    "        self.name=name\n",
    "        self.age=age\n",
    "        self.add=add\n",
    "        \n",
    "obj =info(\"ram\",35,\"ktm\")\n",
    "print(obj.name,obj.age,obj.add)"
   ]
  },
  {
   "cell_type": "code",
   "execution_count": 14,
   "id": "1a93f8be",
   "metadata": {},
   "outputs": [
    {
     "name": "stdout",
     "output_type": "stream",
     "text": [
      "ram 35 ktm\n"
     ]
    }
   ],
   "source": [
    "#protected members\n",
    "\n",
    "class info:\n",
    "    def __init__(self,name,age,add):\n",
    "        self._name=name\n",
    "        self._age=age\n",
    "        self._add=add\n",
    "        \n",
    "obj =info(\"ram\",35,\"ktm\")\n",
    "print(obj._name,obj._age,obj._add)"
   ]
  },
  {
   "cell_type": "code",
   "execution_count": null,
   "id": "b8902955",
   "metadata": {},
   "outputs": [],
   "source": [
    "#private members   cant see result in private members\n",
    "\n",
    "class info:\n",
    "    def __init__(self,name,age,add):\n",
    "        self.__name=name\n",
    "        self.__age=age\n",
    "        self.__add=add\n",
    "        \n",
    "obj =info(\"ram\",35,\"ktm\")\n",
    "print(obj.__name,obj.__age,obj.__add)"
   ]
  },
  {
   "cell_type": "code",
   "execution_count": 15,
   "id": "7cb925b2",
   "metadata": {},
   "outputs": [
    {
     "name": "stdout",
     "output_type": "stream",
     "text": [
      "ram 35 ktm\n"
     ]
    }
   ],
   "source": [
    "#private members    can be used by using this value in private (_info)\n",
    "\n",
    "class info:\n",
    "    def __init__(self,name,age,add):\n",
    "        self.__name=name\n",
    "        self.__age=age\n",
    "        self.__add=add\n",
    "        \n",
    "obj =info(\"ram\",35,\"ktm\")\n",
    "print(obj._info__name,obj._info__age,obj._info__add)"
   ]
  }
 ],
 "metadata": {
  "kernelspec": {
   "display_name": "Python 3 (ipykernel)",
   "language": "python",
   "name": "python3"
  },
  "language_info": {
   "codemirror_mode": {
    "name": "ipython",
    "version": 3
   },
   "file_extension": ".py",
   "mimetype": "text/x-python",
   "name": "python",
   "nbconvert_exporter": "python",
   "pygments_lexer": "ipython3",
   "version": "3.9.12"
  }
 },
 "nbformat": 4,
 "nbformat_minor": 5
}
