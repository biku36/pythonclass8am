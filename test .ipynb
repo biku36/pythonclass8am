{
 "cells": [
  {
   "cell_type": "code",
   "execution_count": 1,
   "id": "98f3aeb6",
   "metadata": {},
   "outputs": [
    {
     "name": "stdout",
     "output_type": "stream",
     "text": [
      "10\n",
      "10.5\n",
      "Hello World\n",
      "True\n",
      "10 10.5 Hello World True\n"
     ]
    }
   ],
   "source": [
    "a = 10\n",
    "b = 10.5\n",
    "c = \"Hello World\"\n",
    "d = True\n",
    "\n",
    "print(a)\n",
    "print(b)\n",
    "print(c)\n",
    "print(d)\n",
    "print(a,b,c,d)"
   ]
  },
  {
   "cell_type": "code",
   "execution_count": 2,
   "id": "7ff9b094",
   "metadata": {},
   "outputs": [
    {
     "name": "stdout",
     "output_type": "stream",
     "text": [
      "10 <class 'int'>\n",
      "10.5 <class 'float'>\n",
      "Hello World <class 'str'>\n",
      "True <class 'bool'>\n"
     ]
    }
   ],
   "source": [
    "print(a,type(a))\n",
    "print(b,type(b))\n",
    "print(c,type(c))\n",
    "print(d,type(d))"
   ]
  },
  {
   "cell_type": "code",
   "execution_count": 1,
   "id": "11a0d273",
   "metadata": {},
   "outputs": [],
   "source": [
    "# String\n",
    "# c = \"Hello World\"\n",
    "# c = 'Hello World'\n",
    "# c = '''Hello World'''"
   ]
  },
  {
   "cell_type": "code",
   "execution_count": 1,
   "id": "0bd3b1ca",
   "metadata": {},
   "outputs": [
    {
     "name": "stdout",
     "output_type": "stream",
     "text": [
      "10\n"
     ]
    }
   ],
   "source": [
    "a='10'\n",
    "print(a)"
   ]
  },
  {
   "cell_type": "code",
   "execution_count": 7,
   "id": "4f6bb717",
   "metadata": {},
   "outputs": [
    {
     "name": "stdout",
     "output_type": "stream",
     "text": [
      "1200\n"
     ]
    }
   ],
   "source": [
    "a=60\n",
    "b=20\n",
    "c=a*b\n",
    "print(c)"
   ]
  },
  {
   "cell_type": "code",
   "execution_count": 10,
   "id": "2dd38127",
   "metadata": {},
   "outputs": [
    {
     "name": "stdout",
     "output_type": "stream",
     "text": [
      "1\n"
     ]
    }
   ],
   "source": [
    "a=50\n",
    "b=30\n",
    "c=a//b\n",
    "print(c)"
   ]
  },
  {
   "cell_type": "code",
   "execution_count": 11,
   "id": "b2d46ae9",
   "metadata": {},
   "outputs": [
    {
     "name": "stdout",
     "output_type": "stream",
     "text": [
      "five is greater than two\n"
     ]
    }
   ],
   "source": [
    "if 5>2:\n",
    "    print(\"five is greater than two\")"
   ]
  },
  {
   "cell_type": "code",
   "execution_count": 18,
   "id": "7c62be18",
   "metadata": {},
   "outputs": [
    {
     "name": "stdout",
     "output_type": "stream",
     "text": [
      "enter math=40\n",
      "enter nepali=40\n",
      "enter science=35\n",
      "total= 115.0\n",
      "per= 38.333333333333336\n",
      "grade= f\n"
     ]
    }
   ],
   "source": [
    "math=float(input(\"enter math=\"))\n",
    "nepali=float (input(\"enter nepali=\"))\n",
    "science=float(input(\"enter science=\"))\n",
    "\n",
    "total=math+nepali+science\n",
    "per=total/3\n",
    "if per>=90:\n",
    "    grade='a+'\n",
    "elif per>=65:\n",
    "    grade='b'\n",
    "elif per>=40:\n",
    "    grade='c'\n",
    "else:\n",
    "    grade='f'\n",
    "    \n",
    "print(\"total=\",total)\n",
    "print(\"per=\",per)\n",
    "print(\"grade=\",grade)\n",
    "    "
   ]
  },
  {
   "cell_type": "code",
   "execution_count": 12,
   "id": "7f30742c",
   "metadata": {},
   "outputs": [
    {
     "name": "stdout",
     "output_type": "stream",
     "text": [
      "Enter the name of the person \n",
      "ram\n",
      "enter the age of the person \n",
      "60\n",
      "60 is eligible to vote\n"
     ]
    }
   ],
   "source": [
    "a=str(input(\"Enter the name of the person \\n\"))\n",
    "b=int(input(\"enter the age of the person \\n\"))\n",
    "if b>18:\n",
    "    print(b,\"is eligible to vote\")\n",
    "else :\n",
    "    print(b,\"is not eligible to vote\")"
   ]
  },
  {
   "cell_type": "code",
   "execution_count": 17,
   "id": "a3e5861c",
   "metadata": {},
   "outputs": [
    {
     "name": "stdout",
     "output_type": "stream",
     "text": [
      "Enter the number \n",
      "16\n",
      "16 is not divisible by 7\n"
     ]
    }
   ],
   "source": [
    "a= int(input(\"Enter the number \\n\"))\n",
    "if a%7==0:\n",
    "    print( a, \"is divisible by 7\")\n",
    "else:\n",
    "    print(a, \"is not divisible by 7\")"
   ]
  },
  {
   "cell_type": "code",
   "execution_count": 19,
   "id": "6c6706b8",
   "metadata": {
    "scrolled": true
   },
   "outputs": [
    {
     "name": "stdout",
     "output_type": "stream",
     "text": [
      "enter the number \n",
      "40\n",
      "enter the number \n",
      "35\n",
      "35 is divisible \n"
     ]
    }
   ],
   "source": []
  },
  {
   "cell_type": "code",
   "execution_count": null,
   "id": "3a484ae8",
   "metadata": {},
   "outputs": [],
   "source": [
    "a=int(input(\"enter the number \\n\"))\n",
    "if a%7==0:\n",
    "    if a%5==0:\n",
    "        print(a,\"is divisible by both 7 and 5 \")\n",
    "    else:\n",
    "        print(a,\"is not divisible by both 7 and 5\")"
   ]
  },
  {
   "cell_type": "code",
   "execution_count": 3,
   "id": "213d06e0",
   "metadata": {},
   "outputs": [
    {
     "name": "stdout",
     "output_type": "stream",
     "text": [
      "enter the number \n",
      "7\n",
      "7 is not divisible by both 7 and 5\n"
     ]
    }
   ],
   "source": [
    "a=int(input(\"enter the number \\n\"))\n",
    "if a%7==0 and a%5==0:\n",
    "    print(a,\"is divisible by both 7 and 5 \")\n",
    "else:\n",
    "    print(a,\"is not divisible by both 7 and 5\")"
   ]
  },
  {
   "cell_type": "code",
   "execution_count": 7,
   "id": "cf44953b",
   "metadata": {},
   "outputs": [
    {
     "name": "stdout",
     "output_type": "stream",
     "text": [
      "enter the number \n",
      "16\n",
      "16 is divisable by both 4 and 16\n"
     ]
    }
   ],
   "source": [
    "a=int(input(\"enter the number \\n\"))\n",
    "if a%4==0 and a%16==0:\n",
    "    print(a,\"is divisable by both 4 and 16\")\n",
    "else:\n",
    "    print(a,\"is not disiable by both 4 and 16\")"
   ]
  },
  {
   "cell_type": "code",
   "execution_count": 15,
   "id": "c2e6c094",
   "metadata": {},
   "outputs": [
    {
     "name": "stdout",
     "output_type": "stream",
     "text": [
      "2\n",
      "4\n",
      "5\n"
     ]
    }
   ],
   "source": [
    "a=range(1,10)\n",
    "for i in a:\n",
    "    if 200%i==0 and 100%i==0 and i!=1:\n",
    "        print(i)"
   ]
  },
  {
   "cell_type": "code",
   "execution_count": 7,
   "id": "f510cbfc",
   "metadata": {},
   "outputs": [
    {
     "name": "stdout",
     "output_type": "stream",
     "text": [
      "enter a=3\n",
      "3 * 1 = 3\n",
      "3 * 2 = 6\n",
      "3 * 3 = 9\n",
      "3 * 4 = 12\n",
      "3 * 5 = 15\n",
      "3 * 6 = 18\n",
      "3 * 7 = 21\n",
      "3 * 8 = 24\n",
      "3 * 9 = 27\n",
      "3 * 10 = 30\n",
      "3 * 11 = 33\n",
      "3 * 12 = 36\n",
      "3 * 13 = 39\n",
      "3 * 14 = 42\n",
      "3 * 15 = 45\n",
      "3 * 16 = 48\n",
      "3 * 17 = 51\n",
      "3 * 18 = 54\n",
      "3 * 19 = 57\n"
     ]
    }
   ],
   "source": [
    "a=int(input(\"enter a=\"))\n",
    "for i in range(1,20):\n",
    "    print(a,\"*\",i,\"=\",a*i)\n"
   ]
  },
  {
   "cell_type": "code",
   "execution_count": 2,
   "id": "3b5d3451",
   "metadata": {},
   "outputs": [
    {
     "name": "stdout",
     "output_type": "stream",
     "text": [
      "Enter the number of products\n",
      "1\n",
      "product \n",
      "niko\n",
      "price \n",
      "20\n",
      "quantity30\n",
      "\n",
      "\n",
      "NAME PRICE Quantity TOTAL \n",
      "\n",
      "niko 20 30 600\n",
      "\n",
      "The total cost is  600\n"
     ]
    }
   ],
   "source": [
    "T=0\n",
    "s=\"\"\n",
    "n=int(input(\"Enter the number of products\\n\"))\n",
    "for i in range(n):\n",
    "        name=input(\"product \\n\")\n",
    "        price=int(input(\"price \\n\"))\n",
    "        quantity=int(input(\"quantity\"))\n",
    "        total=price*quantity\n",
    "        T=T+total\n",
    "        s= s+name+\" \"+ str(price)+\" \"+ str(quantity)+\" \"+str(total)+\"\\n\"\n",
    "print(\"\\n\")\n",
    "print(\"NAME PRICE Quantity TOTAL \\n\")\n",
    "print(s)\n",
    "print(\"The total cost is \", T)"
   ]
  },
  {
   "cell_type": "code",
   "execution_count": 25,
   "id": "92550305",
   "metadata": {
    "scrolled": true
   },
   "outputs": [
    {
     "name": "stdout",
     "output_type": "stream",
     "text": [
      "enter n=1\n",
      "enter name=biku\n",
      "enter nepali=50\n",
      "enter science=60\n",
      "enter math=80\n",
      "name,nepali,science,math,total,grade\n",
      "biku\t5060\t80\t190\t63.333333333333336\tf\n",
      "\n"
     ]
    }
   ],
   "source": [
    "result=str()\n",
    "n=int(input(\"enter n=\"))\n",
    "for i in range(n):\n",
    "    name=input(\"enter name=\")\n",
    "    nepali=int(input(\"enter nepali=\"))\n",
    "    science=int(input(\"enter science=\"))\n",
    "    math=int(input(\"enter math=\"))\n",
    "    total=nepali+science+math\n",
    "    per=total/3\n",
    "    if per >=90:\n",
    "        grade='a'\n",
    "    elif per >=65:\n",
    "        grade='b'\n",
    "    else:\n",
    "        grade='f'\n",
    "        result=result+name+\"\\t\"+str(nepali)+str(science)+\"\\t\"+str(math)+\"\\t\"+str(total)+\"\\t\"+str(per)+\"\\t\"+str(grade)+\"\\n\"\n",
    "                \n",
    "        print('name,nepali,science,math,total,grade')\n",
    "        print(result)"
   ]
  },
  {
   "cell_type": "code",
   "execution_count": 1,
   "id": "4dcd4d96",
   "metadata": {},
   "outputs": [
    {
     "name": "stdout",
     "output_type": "stream",
     "text": [
      "Enter the number to check for prime or not : 100\n",
      "The number is composite number 100\n"
     ]
    }
   ],
   "source": [
    "n=int(input(\"Enter the number to check for prime or not : \"))\n",
    "if n>1:\n",
    "    for i in range (2,n):\n",
    "        if n%i==0:\n",
    "            print(\"The number is composite number\", n)\n",
    "            break\n",
    "\n",
    "    else:\n",
    "        print(\"The number is prime number\", n)"
   ]
  },
  {
   "cell_type": "code",
   "execution_count": 5,
   "id": "4352e763",
   "metadata": {},
   "outputs": [
    {
     "name": "stdout",
     "output_type": "stream",
     "text": [
      "enter the number=7\n",
      "prime number 7\n"
     ]
    }
   ],
   "source": [
    "n=int(input(\"enter the number=\"))\n",
    "if n>1:\n",
    "    for i in range (2,n):\n",
    "        if n%i==0:\n",
    "            print(\"composite number\", n)\n",
    "            break\n",
    "            \n",
    "    else:\n",
    "         print(\"prime number\",n)"
   ]
  },
  {
   "cell_type": "code",
   "execution_count": null,
   "id": "7082db51",
   "metadata": {},
   "outputs": [],
   "source": [
    "#wap to search any value inside a list"
   ]
  },
  {
   "cell_type": "code",
   "execution_count": 2,
   "id": "40498145",
   "metadata": {},
   "outputs": [
    {
     "name": "stdout",
     "output_type": "stream",
     "text": [
      "Enter 5 elements for the list: \n",
      "5\n",
      "5\n",
      "6\n",
      "5\n",
      "4\n",
      "Enter an element to be search: \n",
      "6\n",
      "\n",
      "Element found at Index: 2\n",
      "Element found at Position: 3\n"
     ]
    }
   ],
   "source": [
    "mylist = []\n",
    "print(\"Enter 5 elements for the list: \")\n",
    "for i in range(5):\n",
    "    val = int(input())\n",
    "    mylist.append(val)\n",
    "\n",
    "print(\"Enter an element to be search: \")\n",
    "elem = int(input())\n",
    "\n",
    "for i in range(5):\n",
    "    if elem == mylist[i]:\n",
    "        print(\"\\nElement found at Index:\", i)\n",
    "        print(\"Element found at Position:\", i+1)"
   ]
  },
  {
   "cell_type": "code",
   "execution_count": 2,
   "id": "a1482190",
   "metadata": {},
   "outputs": [],
   "source": [
    "import csv\n",
    "a = ['Pizza',200,4,800]\n",
    "with open('bill.csv','a') as file:\n",
    "    x = csv.writer(file)\n",
    "    x.writerow(a)\n",
    "    \n",
    "\n"
   ]
  },
  {
   "cell_type": "code",
   "execution_count": null,
   "id": "f93aefd1",
   "metadata": {},
   "outputs": [],
   "source": []
  }
 ],
 "metadata": {
  "kernelspec": {
   "display_name": "Python 3 (ipykernel)",
   "language": "python",
   "name": "python3"
  },
  "language_info": {
   "codemirror_mode": {
    "name": "ipython",
    "version": 3
   },
   "file_extension": ".py",
   "mimetype": "text/x-python",
   "name": "python",
   "nbconvert_exporter": "python",
   "pygments_lexer": "ipython3",
   "version": "3.9.12"
  }
 },
 "nbformat": 4,
 "nbformat_minor": 5
}
