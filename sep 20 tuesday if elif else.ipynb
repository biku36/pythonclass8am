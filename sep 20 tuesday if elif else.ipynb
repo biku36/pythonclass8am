{
 "cells": [
  {
   "cell_type": "code",
   "execution_count": 7,
   "id": "9da008ce",
   "metadata": {},
   "outputs": [
    {
     "name": "stdout",
     "output_type": "stream",
     "text": [
      "a is -ve\n"
     ]
    }
   ],
   "source": [
    "# if <condition>:\n",
    "#     <operation>\n",
    "# elif <condition>:\n",
    "#     <operations>\n",
    "# ....\n",
    "# else:\n",
    "#     <operations>\n",
    "        "
   ]
  },
  {
   "cell_type": "code",
   "execution_count": 21,
   "id": "b3b9c7f9",
   "metadata": {},
   "outputs": [
    {
     "name": "stdout",
     "output_type": "stream",
     "text": [
      "a is -ve\n"
     ]
    }
   ],
   "source": [
    "a=-2\n",
    "if a>-2:\n",
    "    print(\"a is +ve\")\n",
    "else:\n",
    "        print(\"a is -ve\")"
   ]
  },
  {
   "cell_type": "code",
   "execution_count": null,
   "id": "e675671e",
   "metadata": {},
   "outputs": [],
   "source": []
  },
  {
   "cell_type": "code",
   "execution_count": 26,
   "id": "37baf647",
   "metadata": {},
   "outputs": [
    {
     "name": "stdout",
     "output_type": "stream",
     "text": [
      "enter a=8\n",
      "8 is even\n"
     ]
    }
   ],
   "source": [
    "a=int(input(\"enter a=\"))\n",
    "if a%2 ==0:\n",
    "    print(a,\"is even\")\n",
    "else:\n",
    "    print(a,\"is odd\")\n",
    "        "
   ]
  },
  {
   "cell_type": "code",
   "execution_count": null,
   "id": "0ef9c52e",
   "metadata": {},
   "outputs": [],
   "source": [
    "a=int(input(\"enter a=\"))\n",
    "b=int(input(\"enter b=\"))\n",
    "if a>b:\n",
    "    print(a,\"is greater\")\n",
    "elif b>a:\n",
    "    print(b,\"is greater\")\n",
    "else:\n",
    "    print(\"both are equal\")\n",
    "    "
   ]
  },
  {
   "cell_type": "code",
   "execution_count": null,
   "id": "7d90d1df",
   "metadata": {},
   "outputs": [],
   "source": [
    "a=float(input(\"enter a=\"))\n",
    "b=float(input(\"enter b=\"))\n",
    "if a>b:\n",
    "    print(a,\"is greater\")\n",
    "elif b>a:\n",
    "    print(b,\"is greater\")\n",
    "else:\n",
    "    print(\"both are equal\")\n",
    "    "
   ]
  },
  {
   "cell_type": "code",
   "execution_count": 4,
   "id": "fb6fe01b",
   "metadata": {},
   "outputs": [
    {
     "name": "stdout",
     "output_type": "stream",
     "text": [
      "enter a =50\n",
      "enter b =30\n",
      "enter + - * /+\n",
      "80\n"
     ]
    }
   ],
   "source": [
    "a=int(input(\"enter a =\"))\n",
    "b=int(input(\"enter b =\"))\n",
    "o=input(\"enter + - * /\")\n",
    "if  o =='+':\n",
    "    print(a+b)\n",
    "elif o =='-':\n",
    "    print(a-b)\n",
    "elif o =='a*b':\n",
    "    print(a*b)\n",
    "elif o =='a/b':\n",
    "    print(a/b)\n",
    "else:\n",
    "    print(\"invalid operator\")"
   ]
  },
  {
   "cell_type": "code",
   "execution_count": 4,
   "id": "9bc37124",
   "metadata": {},
   "outputs": [
    {
     "name": "stdout",
     "output_type": "stream",
     "text": [
      "enter physics=55\n",
      "enter chemistry=5665\n",
      "enter math=66\n",
      "enter english=55\n",
      "enter nepali=44\n",
      "\n"
     ]
    }
   ],
   "source": [
    "\n",
    "physics=float(input(\"enter physics=\"))\n",
    "chemistry=float(input(\"enter chemistry=\"))\n",
    "math=float(input(\"enter math=\"))\n",
    "english=float(input(\"enter english=\"))\n",
    "nepali=float(input(\"enter nepali=\"))\n",
    "\n",
    "total=physics+chemistry+math+english+nepali\n",
    "per =total/5\n",
    "if per>=80:\n",
    "    grade='a'\n",
    "elif per>=60:\n",
    "    grade='b'\n",
    "elif per>=40:\n",
    "    grade='c'\n",
    "else:\n",
    "    grade='f'\n",
    "    \n",
    "    print(\"total=\",total)\n",
    "    print(\"per=\",per)\n",
    "    print(\"grade=\",grade)\n",
    "    \n",
    "    "
   ]
  },
  {
   "cell_type": "code",
   "execution_count": null,
   "id": "29bf4969",
   "metadata": {},
   "outputs": [],
   "source": []
  },
  {
   "cell_type": "code",
   "execution_count": 2,
   "id": "03903c6a",
   "metadata": {},
   "outputs": [
    {
     "name": "stdout",
     "output_type": "stream",
     "text": [
      "enter a =50\n",
      "enter b =0\n",
      "enter + - * //\n",
      "the value cannot be 0\n"
     ]
    }
   ],
   "source": [
    "a=int(input(\"enter a =\"))\n",
    "b=int(input(\"enter b =\"))\n",
    "o=input(\"enter + - * /\")\n",
    "if  o =='+':\n",
    "    print(a+b)\n",
    "elif o =='-':\n",
    "    print(a-b)\n",
    "elif o =='*':\n",
    "    print(a*b)\n",
    "elif o =='/' and b!=0:\n",
    "    print(a/b)\n",
    "elif o =='/' and b==0:\n",
    "    print(\"the value cannot be 0\")\n",
    "else:\n",
    "    print(\"invalid operator\")"
   ]
  },
  {
   "cell_type": "code",
   "execution_count": 18,
   "id": "5ae7d845",
   "metadata": {},
   "outputs": [
    {
     "name": "stdout",
     "output_type": "stream",
     "text": [
      "enter physics=55\n",
      "enter chemistry=80\n",
      "enter math=55\n",
      "enter english=66\n",
      "enter nepali=70\n",
      "total= 326.0\n",
      "per= 65.2\n",
      "grade= b\n"
     ]
    }
   ],
   "source": [
    "physics=float(input(\"enter physics=\"))\n",
    "chemistry=float(input(\"enter chemistry=\"))\n",
    "math=float(input(\"enter math=\"))\n",
    "english=float(input(\"enter english=\"))\n",
    "nepali=float(input(\"enter nepali=\"))\n",
    "\n",
    "total=physics+chemistry+math+english+nepali\n",
    "per =total/5\n",
    "if per>=80 or per==80:\n",
    "    grade='a'\n",
    "elif per>=60 or per==60:\n",
    "    grade='b'\n",
    "elif per>=40 or per==40:\n",
    "    grade='c'\n",
    "else:\n",
    "    grade='f'\n",
    "    \n",
    "print(\"total=\",total)\n",
    "print(\"per=\",per)\n",
    "print(\"grade=\",grade)"
   ]
  },
  {
   "cell_type": "code",
   "execution_count": null,
   "id": "c5a7bd15",
   "metadata": {},
   "outputs": [],
   "source": [
    "if/else\n",
    "if condition:\n",
    "    if condition:\n",
    "        <operation>\n",
    "        else:\n",
    "            <operation>\n",
    "            \n",
    "            "
   ]
  },
  {
   "cell_type": "code",
   "execution_count": 2,
   "id": "1f95507b",
   "metadata": {},
   "outputs": [
    {
     "name": "stdout",
     "output_type": "stream",
     "text": [
      "enter store1=95\n",
      "enter store2=96\n",
      "enter store3=92\n",
      "total= 283.0\n",
      "profit = c\n",
      "grade= b\n"
     ]
    }
   ],
   "source": [
    "a=float(input(\"enter store1=\"))\n",
    "x=float(input(\"enter store2=\"))\n",
    "g=float(input(\"enter store3=\"))\n",
    "\n",
    "total=a+x+g\n",
    "per=total/3\n",
    "if per >=100:\n",
    "    grade='a'\n",
    "elif per>=70:\n",
    "    grade='b'\n",
    "elif per>=50:\n",
    "    grade='c'\n",
    "else:\n",
    "    profit='c'\n",
    "    \n",
    "print(\"total=\",total)\n",
    "print(\"profit =\",profit)\n",
    "print(\"grade=\",grade)\n",
    "        "
   ]
  },
  {
   "cell_type": "code",
   "execution_count": 6,
   "id": "0915566e",
   "metadata": {},
   "outputs": [
    {
     "name": "stdout",
     "output_type": "stream",
     "text": [
      "Enter the marks of English \n",
      "45.5\n",
      "Enter the marks of Maths \n",
      "55.5\n",
      "you are pass\n"
     ]
    }
   ],
   "source": [
    "e=float(input(\"Enter the marks of English \\n\"))\n",
    "m=float(input(\"Enter the marks of Maths \\n\"))\n",
    "t=e+m\n",
    "p=t/2\n",
    "if p>50:\n",
    "    print(\"you are pass\")\n",
    "else:\n",
    "    print(\"you are fail noob\")"
   ]
  },
  {
   "cell_type": "code",
   "execution_count": 12,
   "id": "adc826bc",
   "metadata": {},
   "outputs": [
    {
     "name": "stdout",
     "output_type": "stream",
     "text": [
      "Enter the marks of English \n",
      "42\n",
      "Enter the marks of Maths \n",
      "35\n",
      "38.5 you are fail noob\n"
     ]
    }
   ],
   "source": [
    "e=int(input(\"Enter the marks of English \\n\"))\n",
    "m=int(input(\"Enter the marks of Maths \\n\"))\n",
    "t=e+m\n",
    "p=t/2\n",
    "if p>90:\n",
    "    print(p,\"distinction\")\n",
    "elif p>80:\n",
    "    print(p,\"1st division\")\n",
    "elif p>70:\n",
    "    print(p,\"2nd division\")\n",
    "elif 50<p<70:\n",
    "    print(p,\"average only\")\n",
    "else:\n",
    "    print(p,\"you are fail noob\")"
   ]
  },
  {
   "cell_type": "code",
   "execution_count": null,
   "id": "7b5978c2",
   "metadata": {},
   "outputs": [],
   "source": []
  }
 ],
 "metadata": {
  "kernelspec": {
   "display_name": "Python 3 (ipykernel)",
   "language": "python",
   "name": "python3"
  },
  "language_info": {
   "codemirror_mode": {
    "name": "ipython",
    "version": 3
   },
   "file_extension": ".py",
   "mimetype": "text/x-python",
   "name": "python",
   "nbconvert_exporter": "python",
   "pygments_lexer": "ipython3",
   "version": "3.9.12"
  }
 },
 "nbformat": 4,
 "nbformat_minor": 5
}
