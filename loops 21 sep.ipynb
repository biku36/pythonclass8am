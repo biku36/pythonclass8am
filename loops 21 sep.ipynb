{
 "cells": [
  {
   "cell_type": "code",
   "execution_count": null,
   "id": "1c0e43cc",
   "metadata": {},
   "outputs": [],
   "source": [
    "for loop\n",
    "#range(5) (0,1,2,3,4)\n",
    "#range(1,5) (1,2,3,4)\n",
    "#range(1,5,2) (1,3)\n",
    "#range(0,5,2) (0,2,4)"
   ]
  },
  {
   "cell_type": "code",
   "execution_count": null,
   "id": "9ec67631",
   "metadata": {},
   "outputs": [],
   "source": []
  },
  {
   "cell_type": "code",
   "execution_count": 1,
   "id": "8a156d9d",
   "metadata": {},
   "outputs": [
    {
     "name": "stdout",
     "output_type": "stream",
     "text": [
      "0\n",
      "1\n",
      "2\n",
      "3\n",
      "4\n"
     ]
    }
   ],
   "source": [
    "for i in range(5):\n",
    "    print(i)"
   ]
  },
  {
   "cell_type": "code",
   "execution_count": 2,
   "id": "a41d4395",
   "metadata": {},
   "outputs": [
    {
     "name": "stdout",
     "output_type": "stream",
     "text": [
      "0 hello\n",
      "1 hello\n",
      "2 hello\n",
      "3 hello\n",
      "4 hello\n"
     ]
    }
   ],
   "source": [
    "for i in range(5):\n",
    "    print(i,\"hello\")"
   ]
  },
  {
   "cell_type": "code",
   "execution_count": 3,
   "id": "b00298d1",
   "metadata": {},
   "outputs": [
    {
     "name": "stdout",
     "output_type": "stream",
     "text": [
      "1 hello\n",
      "2 hello\n",
      "3 hello\n"
     ]
    }
   ],
   "source": [
    "for i in range(1,4):\n",
    "    print(i,\"hello\")"
   ]
  },
  {
   "cell_type": "code",
   "execution_count": 4,
   "id": "9a6203e8",
   "metadata": {},
   "outputs": [
    {
     "name": "stdout",
     "output_type": "stream",
     "text": [
      "1 hello\n",
      "2 hello\n",
      "3 hello\n"
     ]
    }
   ],
   "source": [
    "for i in range(1,4,1):\n",
    "    print(i,\"hello\")"
   ]
  },
  {
   "cell_type": "code",
   "execution_count": 5,
   "id": "427d46c1",
   "metadata": {},
   "outputs": [
    {
     "name": "stdout",
     "output_type": "stream",
     "text": [
      "0 hello\n",
      "2 hello\n"
     ]
    }
   ],
   "source": [
    "for i in range(0,4,2):\n",
    "    print(i,\"hello\")"
   ]
  },
  {
   "cell_type": "code",
   "execution_count": 8,
   "id": "4e15a719",
   "metadata": {},
   "outputs": [
    {
     "name": "stdout",
     "output_type": "stream",
     "text": [
      "5 hello\n",
      "3 hello\n",
      "1 hello\n"
     ]
    }
   ],
   "source": [
    "for i in range(5,0,-2):\n",
    "    print(i,\"hello\")"
   ]
  },
  {
   "cell_type": "code",
   "execution_count": 19,
   "id": "6e58168e",
   "metadata": {},
   "outputs": [
    {
     "name": "stdout",
     "output_type": "stream",
     "text": [
      "enter n=5\n",
      "5\n",
      "10\n",
      "15\n",
      "20\n",
      "25\n",
      "30\n",
      "35\n",
      "40\n",
      "45\n",
      "50\n"
     ]
    }
   ],
   "source": [
    "n=int(input(\"enter n=\"))\n",
    "for i in range(1,11):\n",
    "   print(n*i)"
   ]
  },
  {
   "cell_type": "code",
   "execution_count": 21,
   "id": "3ae26fa0",
   "metadata": {},
   "outputs": [
    {
     "name": "stdout",
     "output_type": "stream",
     "text": [
      "enter n=9\n",
      "9 * 1 = 9\n",
      "9 * 2 = 18\n",
      "9 * 3 = 27\n",
      "9 * 4 = 36\n",
      "9 * 5 = 45\n",
      "9 * 6 = 54\n",
      "9 * 7 = 63\n",
      "9 * 8 = 72\n",
      "9 * 9 = 81\n",
      "9 * 10 = 90\n"
     ]
    }
   ],
   "source": [
    "n=int(input(\"enter n=\"))\n",
    "for i in range(1,11):\n",
    "   print(n,\"*\",i,\"=\",n*i)"
   ]
  },
  {
   "cell_type": "code",
   "execution_count": 2,
   "id": "a96d544c",
   "metadata": {},
   "outputs": [
    {
     "name": "stdout",
     "output_type": "stream",
     "text": [
      "enter n =2\n",
      "enter x=3\n",
      "3\n",
      "enter x=4\n",
      "7\n"
     ]
    }
   ],
   "source": [
    "s=0\n",
    "n=int(input(\"enter n =\"))\n",
    "for i in range(n):\n",
    "    x=int(input(\"enter x=\"))\n",
    "    s=s+x\n",
    "    print(s)"
   ]
  },
  {
   "cell_type": "code",
   "execution_count": null,
   "id": "8d332fe7",
   "metadata": {},
   "outputs": [],
   "source": [
    "s=str()\n",
    "n=int(input(\"enter n =\"))\n",
    "for i in range(n):\n",
    "    x=input(\"enter x=\")\n",
    "    s=s+\" \"+x\n",
    "    print(s)"
   ]
  },
  {
   "cell_type": "code",
   "execution_count": null,
   "id": "4ebdb07b",
   "metadata": {},
   "outputs": [],
   "source": [
    "s=str()\n",
    "n=int(input(\"enter n =\"))\n",
    "for i in range(n):\n",
    "    x=input(\"enter x=\")\n",
    "    s=s+x\n",
    "    print(s)"
   ]
  },
  {
   "cell_type": "code",
   "execution_count": 1,
   "id": "533c7f7d",
   "metadata": {},
   "outputs": [
    {
     "name": "stdout",
     "output_type": "stream",
     "text": [
      "enter n =2\n",
      "enter name=ram\n",
      "enter phone=9861113277\n",
      "ram 9861113277\n",
      "\n",
      "enter name=sam\n",
      "enter phone=9863332566\n",
      "ram 9861113277\n",
      "sam 9863332566\n",
      "\n"
     ]
    }
   ],
   "source": [
    "s=str()\n",
    "n=int(input(\"enter n =\"))\n",
    "for i in range(n):\n",
    "    name=input(\"enter name=\")\n",
    "    phone=int(input(\"enter phone=\"))\n",
    "    s=s+name+\" \"+str(phone)+\"\\n\"\n",
    "    print(s)"
   ]
  },
  {
   "cell_type": "code",
   "execution_count": 2,
   "id": "66ecbbe7",
   "metadata": {},
   "outputs": [
    {
     "name": "stdout",
     "output_type": "stream",
     "text": [
      "enter n=50\n",
      "608281864034267560872252163321295376887552831379210240000000000\n"
     ]
    }
   ],
   "source": [
    "fac=1\n",
    "n=int(input(\"enter n=\"))\n",
    "for i in range(1,n*1):\n",
    "   fac=fac*i\n",
    "   \n",
    "print(fac) "
   ]
  },
  {
   "cell_type": "code",
   "execution_count": 1,
   "id": "1590d8dc",
   "metadata": {},
   "outputs": [
    {
     "name": "stdout",
     "output_type": "stream",
     "text": [
      "enter n=3\n",
      "1\n",
      "2\n"
     ]
    }
   ],
   "source": [
    "fac=1\n",
    "n=int(input(\"enter n=\"))\n",
    "for i in range(1,n*1):\n",
    "   fac=fac*i\n",
    "   print(fac) "
   ]
  },
  {
   "cell_type": "code",
   "execution_count": null,
   "id": "544265e2",
   "metadata": {},
   "outputs": [],
   "source": [
    "T=0\n",
    "s=\"\"\n",
    "n=int(input(\"Enter the number of products\\n\"))\n",
    "for i in range(n):\n",
    "        name=input(\"product \\n\")\n",
    "        price=int(input(\"price \\n\"))\n",
    "        quantity=int(input(\"quantity\"))\n",
    "        total=price*quantity\n",
    "        T=T+total\n",
    "        s= s+name+\" \"+ str(price)+\" \"+ str(quantity)+\" \"+str(total)+\"\\n\"\n",
    "print(\"\\n\")\n",
    "print(\"NAME PRICE Quantity TOTAL \\n\")\n",
    "print(s)\n",
    "print(\"The total cost is \", T)"
   ]
  },
  {
   "cell_type": "code",
   "execution_count": 6,
   "id": "10442e33",
   "metadata": {},
   "outputs": [
    {
     "name": "stdout",
     "output_type": "stream",
     "text": [
      "enter n=1\n",
      "enter nameal3\n",
      "enter price=2\n",
      "enter quantity=30\n",
      "\n",
      "\n",
      "NAME PRICE Quantity TOTAL \n",
      "\n",
      "al3\t2\t30\t60\n",
      "\n",
      "60\n"
     ]
    }
   ],
   "source": [
    "all_total=0\n",
    "bill=str()\n",
    "n=int(input(\"enter n=\"))\n",
    "for i in range(n):\n",
    "    name=input(\"enter name\")\n",
    "    price=int(input(\"enter price=\"))\n",
    "    quantity=int(input(\"enter quantity=\"))\n",
    "    total=price*quantity\n",
    "    all_total=all_total+total\n",
    "    bill=bill+name+\"\\t\"+str(price)+\"\\t\"+str(quantity)+\"\\t\"+str(total)+\"\\n\"\n",
    "print(\"\\n\")\n",
    "print(\"NAME PRICE Quantity TOTAL \\n\")    \n",
    "print(bill)\n",
    "print(all_total)"
   ]
  },
  {
   "cell_type": "code",
   "execution_count": 7,
   "id": "dea16efd",
   "metadata": {},
   "outputs": [
    {
     "name": "stdout",
     "output_type": "stream",
     "text": [
      "enter n=1\n",
      "enter name=biku\n",
      "enter physics=20\n",
      "enter chemistry=30\n",
      "enter math=25\n",
      "enter english=33\n",
      "enter nepali=66\n",
      "name,physics,chemistry,math,english,nepali,total,per,grade\n",
      "biku\t20\t30\t25\t33\t66\t174\t34.8\tf\n",
      "\n"
     ]
    }
   ],
   "source": [
    "result=str()\n",
    "n=int(input(\"enter n=\"))\n",
    "for i in range(n):\n",
    "    name=input(\"enter name=\")\n",
    "    physics=int(input(\"enter physics=\"))\n",
    "    chemistry=int(input(\"enter chemistry=\"))\n",
    "    math=int(input(\"enter math=\"))\n",
    "    english=int(input(\"enter english=\"))\n",
    "    nepali=int(input(\"enter nepali=\"))\n",
    "    total=physics+chemistry+math+english+nepali\n",
    "    per=total/5\n",
    "    if per >=80:\n",
    "        grade='a'\n",
    "    elif per >=60:\n",
    "        grade='b'\n",
    "    elif per >=45:\n",
    "        grade='c'\n",
    "    else:\n",
    "        grade='f'\n",
    "    result=result+name+\"\\t\"+str(physics)+\"\\t\"+str(chemistry)+\"\\t\"+str(math)+\"\\t\"+str(english)+\"\\t\"+str(nepali)+\"\\t\"+str(total)+\"\\t\"+str(per)+\"\\t\"+str(grade)+\"\\n\"\n",
    "    \n",
    "    print('name,physics,chemistry,math,english,nepali,total,per,grade')\n",
    "    print(result)"
   ]
  },
  {
   "cell_type": "code",
   "execution_count": null,
   "id": "061d94ea",
   "metadata": {},
   "outputs": [],
   "source": []
  }
 ],
 "metadata": {
  "kernelspec": {
   "display_name": "Python 3 (ipykernel)",
   "language": "python",
   "name": "python3"
  },
  "language_info": {
   "codemirror_mode": {
    "name": "ipython",
    "version": 3
   },
   "file_extension": ".py",
   "mimetype": "text/x-python",
   "name": "python",
   "nbconvert_exporter": "python",
   "pygments_lexer": "ipython3",
   "version": "3.9.12"
  }
 },
 "nbformat": 4,
 "nbformat_minor": 5
}
