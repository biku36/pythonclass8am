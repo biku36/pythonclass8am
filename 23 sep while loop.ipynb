{
 "cells": [
  {
   "cell_type": "code",
   "execution_count": null,
   "id": "a458baa4",
   "metadata": {},
   "outputs": [],
   "source": [
    "#while loop\n",
    "while <condition>\n",
    "      <operation>\n",
    "    "
   ]
  },
  {
   "cell_type": "code",
   "execution_count": 1,
   "id": "89c1feba",
   "metadata": {},
   "outputs": [
    {
     "name": "stdout",
     "output_type": "stream",
     "text": [
      "hello\n",
      "hello\n",
      "hello\n",
      "hello\n",
      "hello\n"
     ]
    }
   ],
   "source": [
    "i=0\n",
    "while i<5:\n",
    "    print(\"hello\")\n",
    "    i=i+1"
   ]
  },
  {
   "cell_type": "code",
   "execution_count": 5,
   "id": "42b95acf",
   "metadata": {},
   "outputs": [
    {
     "name": "stdout",
     "output_type": "stream",
     "text": [
      "can i have the coffee\n",
      "can i have the coffee\n"
     ]
    }
   ],
   "source": [
    "i=0\n",
    "while i<5:\n",
    "    print(\"can i have the coffee\")\n",
    "    i=i+4\n",
    "    # i+=1 same as above\n"
   ]
  },
  {
   "cell_type": "code",
   "execution_count": 7,
   "id": "43e2d6a2",
   "metadata": {},
   "outputs": [
    {
     "name": "stdout",
     "output_type": "stream",
     "text": [
      "can i have the coffee\n",
      "can i have the coffee\n",
      "can i have the coffee\n",
      "can i have the coffee\n"
     ]
    }
   ],
   "source": [
    "i=0\n",
    "while i<5:\n",
    "    print(\"can i have the coffee\")\n",
    "    i=i+1.5"
   ]
  },
  {
   "cell_type": "code",
   "execution_count": 1,
   "id": "1f6101b7",
   "metadata": {},
   "outputs": [
    {
     "name": "stdout",
     "output_type": "stream",
     "text": [
      "enter no=9\n",
      "9 x 1 = 9\n",
      "9 x 2 = 18\n",
      "9 x 3 = 27\n",
      "9 x 4 = 36\n",
      "9 x 5 = 45\n",
      "9 x 6 = 54\n",
      "9 x 7 = 63\n",
      "9 x 8 = 72\n",
      "9 x 9 = 81\n",
      "9 x 10 = 90\n"
     ]
    }
   ],
   "source": [
    "i=1\n",
    "n=int(input(\"enter no=\"))\n",
    "while i<11:\n",
    "    print(n, \"x\",i,\"=\",n*i)\n",
    "    i=i+1"
   ]
  },
  {
   "cell_type": "code",
   "execution_count": 11,
   "id": "cc2ea297",
   "metadata": {},
   "outputs": [
    {
     "name": "stdout",
     "output_type": "stream",
     "text": [
      "enter no=2\n",
      "enter the name=golee\n",
      " golee\n",
      "enter the name=daju\n",
      " golee daju\n"
     ]
    }
   ],
   "source": [
    "i=0\n",
    "s=str()\n",
    "n=int(input(\"enter no=\"))\n",
    "while i<n:\n",
    "    x=input(\"enter the name=\")\n",
    "    s=s+\" \"+x\n",
    "    print(s)\n",
    "    i=i+1"
   ]
  },
  {
   "cell_type": "code",
   "execution_count": 12,
   "id": "9bf526a1",
   "metadata": {},
   "outputs": [
    {
     "name": "stdout",
     "output_type": "stream",
     "text": [
      "enter no=2\n",
      "enter the name=ra\n",
      " ra\n",
      "enter the name=ba\n",
      " ra ba\n"
     ]
    }
   ],
   "source": [
    "# different between above and this\n",
    "s=str()\n",
    "n=int(input(\"enter no=\"))\n",
    "for i in range(n):\n",
    "    x=input(\"enter the name=\")\n",
    "    s=s+\" \"+x\n",
    "    print(s)"
   ]
  },
  {
   "cell_type": "code",
   "execution_count": 3,
   "id": "97c8be4d",
   "metadata": {},
   "outputs": [
    {
     "name": "stdout",
     "output_type": "stream",
     "text": [
      "enter the no=2\n",
      "1\n"
     ]
    }
   ],
   "source": [
    "fac=1\n",
    "i=1\n",
    "n=int(input(\"enter the no=\"))\n",
    "while i<n:\n",
    "    fac=fac*1\n",
    "    i=i+1\n",
    "print(fac)"
   ]
  },
  {
   "cell_type": "code",
   "execution_count": 7,
   "id": "32e8cb51",
   "metadata": {},
   "outputs": [
    {
     "name": "stdout",
     "output_type": "stream",
     "text": [
      "h\n",
      "e\n",
      "l\n",
      "l\n",
      "o\n",
      " \n",
      "w\n",
      "o\n",
      "r\n",
      "l\n",
      "d\n"
     ]
    }
   ],
   "source": [
    "a=\"hello world\"\n",
    "l=len(a)\n",
    "i=0\n",
    "while i<l:\n",
    "    print(a[i])\n",
    "    i=i+1"
   ]
  },
  {
   "cell_type": "code",
   "execution_count": 5,
   "id": "e26672ff",
   "metadata": {},
   "outputs": [
    {
     "data": {
      "text/plain": [
       "('h', 'e', 'l', 'l')"
      ]
     },
     "execution_count": 5,
     "metadata": {},
     "output_type": "execute_result"
    }
   ],
   "source": [
    "a=\"hello world\"\n",
    "a[0],a[1],a[2],a[3]"
   ]
  },
  {
   "cell_type": "code",
   "execution_count": 1,
   "id": "dff9ded4",
   "metadata": {},
   "outputs": [
    {
     "name": "stdout",
     "output_type": "stream",
     "text": [
      "h\n",
      "e\n",
      "l\n",
      "l\n",
      "o\n",
      "w\n",
      "o\n",
      "r\n",
      "l\n",
      "d\n"
     ]
    }
   ],
   "source": [
    "a=\"hello world\"\n",
    "l=len(a)\n",
    "i=0\n",
    "while i<l:\n",
    "    if a[i]!=\" \":\n",
    "        print(a[i])\n",
    "    i=i+1"
   ]
  },
  {
   "cell_type": "code",
   "execution_count": null,
   "id": "5ef6406a",
   "metadata": {},
   "outputs": [
    {
     "name": "stdout",
     "output_type": "stream",
     "text": [
      "h\n",
      "e\n",
      "l\n",
      "l\n",
      "o\n"
     ]
    }
   ],
   "source": [
    "a=\"hello world\"\n",
    "l=len(a)\n",
    "i=0\n",
    "while i<l:\n",
    "    if a[i]!=\" \":\n",
    "        print(a[i])\n",
    "        i=i+1"
   ]
  },
  {
   "cell_type": "code",
   "execution_count": 1,
   "id": "480ea6b9",
   "metadata": {},
   "outputs": [
    {
     "name": "stdout",
     "output_type": "stream",
     "text": [
      "h e l l o w o r l d "
     ]
    }
   ],
   "source": [
    "a=\"hello world\"\n",
    "l=len(a)\n",
    "i=0\n",
    "while i<l:\n",
    "    if a[i]!=\" \":\n",
    "        print(a[i],end=(\" \"))\n",
    "    i=i+1"
   ]
  },
  {
   "cell_type": "code",
   "execution_count": null,
   "id": "8130ed4f",
   "metadata": {},
   "outputs": [
    {
     "name": "stdout",
     "output_type": "stream",
     "text": [
      "h e l l o "
     ]
    }
   ],
   "source": [
    "a=\"hello world\"\n",
    "l=len(a)\n",
    "i=0\n",
    "while i<l:\n",
    "    if a[i]!=\" \":\n",
    "        print(a[i],end=(\" \"))\n",
    "        i=i+1"
   ]
  },
  {
   "cell_type": "code",
   "execution_count": 2,
   "id": "abc2b571",
   "metadata": {},
   "outputs": [
    {
     "name": "stdout",
     "output_type": "stream",
     "text": [
      "0\n",
      "1\n",
      "2\n",
      "3\n",
      "4\n"
     ]
    }
   ],
   "source": [
    "i=0\n",
    "n=10\n",
    "while i<n:\n",
    "    if i==5:\n",
    "         break\n",
    "    print(i)\n",
    "    i=i+1"
   ]
  },
  {
   "cell_type": "code",
   "execution_count": 1,
   "id": "64860609",
   "metadata": {},
   "outputs": [
    {
     "name": "stdout",
     "output_type": "stream",
     "text": [
      "h e l l o w o r l d "
     ]
    }
   ],
   "source": [
    "a=\"hello world\"\n",
    "l=len(a)\n",
    "i=0\n",
    "while i<l:\n",
    "    if a[i]==\" \":\n",
    "        i=i+1\n",
    "        continue\n",
    "    print(a[i],end=(\" \"))\n",
    "    i=i+1"
   ]
  },
  {
   "cell_type": "code",
   "execution_count": 3,
   "id": "d72e8d58",
   "metadata": {},
   "outputs": [
    {
     "name": "stdout",
     "output_type": "stream",
     "text": [
      "Please, Enter the Upper Range Value: 1000\n",
      "The Prime Numbers in the range are: \n",
      "2 \t3 \t5 \t7 \t11 \t13 \t17 \t19 \t23 \t29 \t31 \t37 \t41 \t43 \t47 \t53 \t59 \t61 \t67 \t71 \t73 \t79 \t83 \t89 \t97 \t101 \t103 \t107 \t109 \t113 \t127 \t131 \t137 \t139 \t149 \t151 \t157 \t163 \t167 \t173 \t179 \t181 \t191 \t193 \t197 \t199 \t211 \t223 \t227 \t229 \t233 \t239 \t241 \t251 \t257 \t263 \t269 \t271 \t277 \t281 \t283 \t293 \t307 \t311 \t313 \t317 \t331 \t337 \t347 \t349 \t353 \t359 \t367 \t373 \t379 \t383 \t389 \t397 \t401 \t409 \t419 \t421 \t431 \t433 \t439 \t443 \t449 \t457 \t461 \t463 \t467 \t479 \t487 \t491 \t499 \t503 \t509 \t521 \t523 \t541 \t547 \t557 \t563 \t569 \t571 \t577 \t587 \t593 \t599 \t601 \t607 \t613 \t617 \t619 \t631 \t641 \t643 \t647 \t653 \t659 \t661 \t673 \t677 \t683 \t691 \t701 \t709 \t719 \t727 \t733 \t739 \t743 \t751 \t757 \t761 \t769 \t773 \t787 \t797 \t809 \t811 \t821 \t823 \t827 \t829 \t839 \t853 \t857 \t859 \t863 \t877 \t881 \t883 \t887 \t907 \t911 \t919 \t929 \t937 \t941 \t947 \t953 \t967 \t971 \t977 \t983 \t991 \t997 \t"
     ]
    }
   ],
   "source": [
    "n = int(input (\"Please, Enter the Upper Range Value: \"))  \n",
    "  \n",
    "print (\"The Prime Numbers in the range are: \")  \n",
    "for number in range (1, n + 1):  \n",
    "    if number > 1:  \n",
    "        for i in range (2, number):  \n",
    "            if (number % i) == 0:  \n",
    "                break  \n",
    "        else:  \n",
    "            print (number,\"\\t\",end=(\"\"))"
   ]
  },
  {
   "cell_type": "code",
   "execution_count": 9,
   "id": "735d91ca",
   "metadata": {},
   "outputs": [
    {
     "name": "stdout",
     "output_type": "stream",
     "text": [
      "Enter n = 3\n",
      "3 is prime\n"
     ]
    }
   ],
   "source": [
    "n = int(input(\"Enter n = \"))\n",
    "if n>=2:\n",
    "    for i in range(2,n//2+1):\n",
    "        if n%i==0:\n",
    "            print(n,\"is composite.\")\n",
    "            break\n",
    "    else:\n",
    "        print(n,\"is prime\")\n",
    "else:\n",
    "    print(\"The no should be >=2\")\n",
    "        "
   ]
  },
  {
   "cell_type": "code",
   "execution_count": 11,
   "id": "9131b975",
   "metadata": {},
   "outputs": [
    {
     "name": "stdout",
     "output_type": "stream",
     "text": [
      "Enter n = 8\n",
      "8 is composite.\n",
      "8 is composite.\n",
      "8 is prime\n"
     ]
    }
   ],
   "source": [
    "n = int(input(\"Enter n = \"))\n",
    "if n>=2:\n",
    "    for i in range(2,n):\n",
    "        if n%i==0:\n",
    "            print(n,\"is composite.\")\n",
    "            continue\n",
    "    else:\n",
    "        print(n,\"is prime\")\n",
    "else:\n",
    "    print(\"The no should be >=2\")"
   ]
  },
  {
   "cell_type": "code",
   "execution_count": 7,
   "id": "7f46e43a",
   "metadata": {},
   "outputs": [
    {
     "name": "stdout",
     "output_type": "stream",
     "text": [
      "2\n",
      "3\n",
      "4\n",
      "5\n",
      "6\n"
     ]
    }
   ],
   "source": [
    "for a in range(2,7):\n",
    "    print(a)\n"
   ]
  },
  {
   "cell_type": "code",
   "execution_count": null,
   "id": "2b09efe6",
   "metadata": {},
   "outputs": [],
   "source": []
  }
 ],
 "metadata": {
  "kernelspec": {
   "display_name": "Python 3 (ipykernel)",
   "language": "python",
   "name": "python3"
  },
  "language_info": {
   "codemirror_mode": {
    "name": "ipython",
    "version": 3
   },
   "file_extension": ".py",
   "mimetype": "text/x-python",
   "name": "python",
   "nbconvert_exporter": "python",
   "pygments_lexer": "ipython3",
   "version": "3.9.12"
  }
 },
 "nbformat": 4,
 "nbformat_minor": 5
}
