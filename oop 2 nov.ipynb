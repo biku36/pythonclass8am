{
 "cells": [
  {
   "cell_type": "code",
   "execution_count": 2,
   "id": "5baaeea4",
   "metadata": {},
   "outputs": [
    {
     "name": "stdout",
     "output_type": "stream",
     "text": [
      "Hello world\n"
     ]
    }
   ],
   "source": [
    "class Hello:                        #class\n",
    "    print(\"Hello world\")\n",
    "    \n",
    "    obj=Hello()                    #object"
   ]
  },
  {
   "cell_type": "code",
   "execution_count": 8,
   "id": "7dc253d4",
   "metadata": {},
   "outputs": [
    {
     "name": "stdout",
     "output_type": "stream",
     "text": [
      "Hello world\n"
     ]
    }
   ],
   "source": [
    "class Hello:\n",
    "    @staticmethod\n",
    "    def hello():\n",
    "        print(\"Hello world\")\n",
    "        \n",
    "obj=Hello()\n",
    "obj.hello()"
   ]
  },
  {
   "cell_type": "code",
   "execution_count": 9,
   "id": "28ab67c4",
   "metadata": {},
   "outputs": [
    {
     "name": "stdout",
     "output_type": "stream",
     "text": [
      "Hello world\n"
     ]
    }
   ],
   "source": [
    "class Hello:\n",
    "    def hello(self):\n",
    "        print(\"Hello world\")\n",
    "        \n",
    "obj=Hello()\n",
    "obj.hello()"
   ]
  },
  {
   "cell_type": "code",
   "execution_count": 16,
   "id": "92a34ba2",
   "metadata": {},
   "outputs": [
    {
     "name": "stdout",
     "output_type": "stream",
     "text": [
      "50\n",
      "100\n"
     ]
    }
   ],
   "source": [
    "class Cal:\n",
    "    @staticmethod\n",
    "    def area():\n",
    "        l=10\n",
    "        b=5\n",
    "        return l*b\n",
    "    \n",
    "    def vol(self,l,b,h):\n",
    "        v=l*b*h\n",
    "        return v\n",
    "    \n",
    "obj=Cal()\n",
    "print(obj.area())\n",
    "print(obj.vol(10,5,2))"
   ]
  },
  {
   "cell_type": "code",
   "execution_count": 18,
   "id": "48865392",
   "metadata": {},
   "outputs": [
    {
     "name": "stdout",
     "output_type": "stream",
     "text": [
      "50\n",
      "100\n"
     ]
    }
   ],
   "source": [
    "class Cal:\n",
    "    def area(self):\n",
    "        l=10\n",
    "        b=5\n",
    "        return l*b\n",
    "    \n",
    "    def vol(self,l,b,h):\n",
    "        v=l*b*h\n",
    "        return v\n",
    "    \n",
    "obj=Cal()\n",
    "print(obj.area())\n",
    "print(obj.vol(10,5,2))"
   ]
  },
  {
   "cell_type": "code",
   "execution_count": 23,
   "id": "739e8a5f",
   "metadata": {},
   "outputs": [
    {
     "name": "stdout",
     "output_type": "stream",
     "text": [
      "50\n",
      "100\n"
     ]
    }
   ],
   "source": [
    "class Area:\n",
    "    def area(self,l,b):\n",
    "        return l*b\n",
    "class vol:\n",
    "    def vol(self,l,b,h):\n",
    "        return l*b*h\n",
    "obj=Area()    \n",
    "obj1=vol()\n",
    "print(obj.area(10,5))\n",
    "print(obj1.vol(10,5,2))"
   ]
  },
  {
   "cell_type": "code",
   "execution_count": 28,
   "id": "0efcb3a7",
   "metadata": {},
   "outputs": [
    {
     "name": "stdout",
     "output_type": "stream",
     "text": [
      "50\n",
      "100\n"
     ]
    }
   ],
   "source": [
    "class Cal:\n",
    "    def __init__(self,l,b,h):\n",
    "        self.l =l\n",
    "        self.b =b\n",
    "        self.h =h\n",
    "        \n",
    "        \n",
    "    def area(self):\n",
    "        return self.l*self.b\n",
    "    \n",
    "    def vol(self):\n",
    "        v=self.l*self.b*self.h\n",
    "        return v\n",
    "    \n",
    "obj=Cal(10,5,2)\n",
    "print(obj.area())\n",
    "print(obj.vol())"
   ]
  },
  {
   "cell_type": "code",
   "execution_count": 30,
   "id": "54fb7f2d",
   "metadata": {},
   "outputs": [
    {
     "name": "stdout",
     "output_type": "stream",
     "text": [
      "50\n",
      "100\n"
     ]
    }
   ],
   "source": [
    "class Cal:\n",
    "    def __init__(self,l,b):\n",
    "        self.l =l\n",
    "        self.b =b\n",
    "        \n",
    "        \n",
    "    def area(self):\n",
    "        return self.l*self.b\n",
    "    \n",
    "    def vol(self,h):\n",
    "        v=self.l*self.b*h\n",
    "        return v\n",
    "    \n",
    "obj=Cal(10,5)\n",
    "print(obj.area())\n",
    "print(obj.vol(2))"
   ]
  },
  {
   "cell_type": "code",
   "execution_count": 2,
   "id": "c5eb5f78",
   "metadata": {},
   "outputs": [
    {
     "name": "stdout",
     "output_type": "stream",
     "text": [
      "enter l=5\n",
      "enter b=5\n",
      "enter h=5\n",
      "25\n",
      "125\n"
     ]
    }
   ],
   "source": [
    "class Cal:\n",
    "    def __init__(self):\n",
    "        self.l =int(input(\"enter l=\"))\n",
    "        self.b =int(input(\"enter b=\"))\n",
    "        self.h =int(input(\"enter h=\"))\n",
    "        \n",
    "        \n",
    "    def area(self):\n",
    "        return self.l*self.b\n",
    "    \n",
    "    def vol(self):\n",
    "        v=self.l*self.b*self.h\n",
    "        return v\n",
    "    \n",
    "obj=Cal()\n",
    "print(obj.area())\n",
    "print(obj.vol())"
   ]
  },
  {
   "cell_type": "code",
   "execution_count": null,
   "id": "656c2ce3",
   "metadata": {},
   "outputs": [],
   "source": []
  }
 ],
 "metadata": {
  "kernelspec": {
   "display_name": "Python 3 (ipykernel)",
   "language": "python",
   "name": "python3"
  },
  "language_info": {
   "codemirror_mode": {
    "name": "ipython",
    "version": 3
   },
   "file_extension": ".py",
   "mimetype": "text/x-python",
   "name": "python",
   "nbconvert_exporter": "python",
   "pygments_lexer": "ipython3",
   "version": "3.9.12"
  }
 },
 "nbformat": 4,
 "nbformat_minor": 5
}
