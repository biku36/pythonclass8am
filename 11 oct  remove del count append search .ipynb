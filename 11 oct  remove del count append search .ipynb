{
 "cells": [
  {
   "cell_type": "code",
   "execution_count": 1,
   "id": "329915e2",
   "metadata": {},
   "outputs": [
    {
     "data": {
      "text/plain": [
       "['apple', 'ball', 'cat']"
      ]
     },
     "execution_count": 1,
     "metadata": {},
     "output_type": "execute_result"
    }
   ],
   "source": [
    "a=[]\n",
    "a.append('apple')\n",
    "a.append('ball')\n",
    "a.append('cat')\n",
    "a"
   ]
  },
  {
   "cell_type": "code",
   "execution_count": 2,
   "id": "029a2b8c",
   "metadata": {},
   "outputs": [
    {
     "data": {
      "text/plain": [
       "['apple', 'ball', 'cat', 'dog']"
      ]
     },
     "execution_count": 2,
     "metadata": {},
     "output_type": "execute_result"
    }
   ],
   "source": [
    "a=['apple', 'ball', 'cat']\n",
    "a.append('dog')\n",
    "a"
   ]
  },
  {
   "cell_type": "code",
   "execution_count": 4,
   "id": "af4057da",
   "metadata": {},
   "outputs": [
    {
     "name": "stdout",
     "output_type": "stream",
     "text": [
      "enter n=3\n",
      "enter x=apple\n",
      "enter x=ball\n",
      "enter x=cat\n",
      "['apple', 'ball', 'cat']\n"
     ]
    }
   ],
   "source": [
    "a=list()\n",
    "n=int(input(\"enter n=\"))\n",
    "for i in range(n):\n",
    "    x=input(\"enter x=\")\n",
    "    a.append(x)\n",
    "print(a)"
   ]
  },
  {
   "cell_type": "code",
   "execution_count": 8,
   "id": "7072e9f5",
   "metadata": {},
   "outputs": [
    {
     "data": {
      "text/plain": [
       "['apple', 'bulk', 'ball', 'cat', 'dog']"
      ]
     },
     "execution_count": 8,
     "metadata": {},
     "output_type": "execute_result"
    }
   ],
   "source": [
    "a=['apple', 'ball', 'cat', 'dog']\n",
    "a.insert(1,'bulk')\n",
    "a"
   ]
  },
  {
   "cell_type": "code",
   "execution_count": 9,
   "id": "66fd570c",
   "metadata": {},
   "outputs": [
    {
     "data": {
      "text/plain": [
       "['apple', 'ball', 'cat', 'dog', 'fish', 'goat']"
      ]
     },
     "execution_count": 9,
     "metadata": {},
     "output_type": "execute_result"
    }
   ],
   "source": [
    "a=['apple', 'ball', 'cat', 'dog']\n",
    "b=['fish','goat']\n",
    "a.extend(b)\n",
    "a"
   ]
  },
  {
   "cell_type": "code",
   "execution_count": 12,
   "id": "522cee81",
   "metadata": {},
   "outputs": [
    {
     "data": {
      "text/plain": [
       "['apple', 'ball', 'Anda', 'dog']"
      ]
     },
     "execution_count": 12,
     "metadata": {},
     "output_type": "execute_result"
    }
   ],
   "source": [
    "a=['apple', 'ball', 'cat', 'dog']\n",
    "a[2]='Anda'\n",
    "a"
   ]
  },
  {
   "cell_type": "code",
   "execution_count": 15,
   "id": "3ee22720",
   "metadata": {},
   "outputs": [
    {
     "ename": "TypeError",
     "evalue": "list indices must be integers or slices, not tuple",
     "output_type": "error",
     "traceback": [
      "\u001b[1;31m---------------------------------------------------------------------------\u001b[0m",
      "\u001b[1;31mTypeError\u001b[0m                                 Traceback (most recent call last)",
      "Input \u001b[1;32mIn [15]\u001b[0m, in \u001b[0;36m<cell line: 1>\u001b[1;34m()\u001b[0m\n\u001b[1;32m----> 1\u001b[0m \u001b[43ma\u001b[49m\u001b[43m[\u001b[49m\u001b[38;5;124;43m'\u001b[39;49m\u001b[38;5;124;43mapple\u001b[39;49m\u001b[38;5;124;43m'\u001b[39;49m\u001b[43m,\u001b[49m\u001b[43m \u001b[49m\u001b[38;5;124;43m'\u001b[39;49m\u001b[38;5;124;43mball\u001b[39;49m\u001b[38;5;124;43m'\u001b[39;49m\u001b[43m,\u001b[49m\u001b[43m \u001b[49m\u001b[38;5;124;43m'\u001b[39;49m\u001b[38;5;124;43mcat\u001b[39;49m\u001b[38;5;124;43m'\u001b[39;49m\u001b[43m,\u001b[49m\u001b[43m \u001b[49m\u001b[38;5;124;43m'\u001b[39;49m\u001b[38;5;124;43mdog\u001b[39;49m\u001b[38;5;124;43m'\u001b[39;49m\u001b[43m]\u001b[49m\n\u001b[0;32m      2\u001b[0m a[\u001b[38;5;241m1\u001b[39m]\u001b[38;5;241m=\u001b[39m\u001b[38;5;124m'\u001b[39m\u001b[38;5;124mball\u001b[39m\u001b[38;5;124m'\u001b[39m\n\u001b[0;32m      3\u001b[0m a[\u001b[38;5;241m2\u001b[39m]\u001b[38;5;241m=\u001b[39m\u001b[38;5;124m'\u001b[39m\u001b[38;5;124mcat\u001b[39m\u001b[38;5;124m'\u001b[39m\n",
      "\u001b[1;31mTypeError\u001b[0m: list indices must be integers or slices, not tuple"
     ]
    }
   ],
   "source": [
    "a['apple', 'ball', 'cat', 'dog']\n",
    "a[1]='ball'\n",
    "a[2]='cat'\n",
    "a"
   ]
  },
  {
   "cell_type": "code",
   "execution_count": 16,
   "id": "21cf7f92",
   "metadata": {},
   "outputs": [
    {
     "data": {
      "text/plain": [
       "['apple', 'cat', 'dog', 'fish', 'goat']"
      ]
     },
     "execution_count": 16,
     "metadata": {},
     "output_type": "execute_result"
    }
   ],
   "source": [
    "a=['apple', 'ball', 'cat', 'dog', 'fish', 'goat']\n",
    "del a[1]\n",
    "a"
   ]
  },
  {
   "cell_type": "code",
   "execution_count": 17,
   "id": "31da5f0e",
   "metadata": {},
   "outputs": [
    {
     "data": {
      "text/plain": [
       "['cat', 'dog', 'fish', 'goat']"
      ]
     },
     "execution_count": 17,
     "metadata": {},
     "output_type": "execute_result"
    }
   ],
   "source": [
    "a=['apple', 'ball', 'cat', 'dog', 'fish', 'goat']\n",
    "del a[0:2]\n",
    "a"
   ]
  },
  {
   "cell_type": "code",
   "execution_count": 18,
   "id": "4469a657",
   "metadata": {},
   "outputs": [
    {
     "data": {
      "text/plain": [
       "['apple', 'cat', 'dog', 'fish', 'goat']"
      ]
     },
     "execution_count": 18,
     "metadata": {},
     "output_type": "execute_result"
    }
   ],
   "source": [
    "a=['apple', 'ball', 'cat', 'dog', 'fish', 'goat']\n",
    "a.remove('ball')\n",
    "a"
   ]
  },
  {
   "cell_type": "code",
   "execution_count": 19,
   "id": "d7d8590b",
   "metadata": {},
   "outputs": [
    {
     "data": {
      "text/plain": [
       "['ball', 'cat', 'dog', 'fish', 'goat', 'apple']"
      ]
     },
     "execution_count": 19,
     "metadata": {},
     "output_type": "execute_result"
    }
   ],
   "source": [
    "a=['apple', 'ball', 'cat', 'dog', 'fish', 'goat','apple']\n",
    "a.remove('apple')\n",
    "a"
   ]
  },
  {
   "cell_type": "code",
   "execution_count": 3,
   "id": "549ec556",
   "metadata": {},
   "outputs": [
    {
     "data": {
      "text/plain": [
       "2"
      ]
     },
     "execution_count": 3,
     "metadata": {},
     "output_type": "execute_result"
    }
   ],
   "source": [
    "a=['apple', 'ball', 'cat', 'dog', 'fish', 'goat','apple']\n",
    "l=a.count(\"apple\")\n",
    "l"
   ]
  },
  {
   "cell_type": "code",
   "execution_count": 2,
   "id": "82c191e5",
   "metadata": {},
   "outputs": [
    {
     "data": {
      "text/plain": [
       "['ball', 'cat', 'dog', 'fish', 'goat']"
      ]
     },
     "execution_count": 2,
     "metadata": {},
     "output_type": "execute_result"
    }
   ],
   "source": [
    "a=['apple', 'ball', 'cat', 'dog', 'fish', 'goat','apple']\n",
    "l=a.count(\"apple\")\n",
    "for i in range(2):\n",
    "    a.remove(\"apple\")\n",
    "    \n",
    "a"
   ]
  },
  {
   "cell_type": "code",
   "execution_count": 4,
   "id": "64eadfba",
   "metadata": {},
   "outputs": [
    {
     "data": {
      "text/plain": [
       "0"
      ]
     },
     "execution_count": 4,
     "metadata": {},
     "output_type": "execute_result"
    }
   ],
   "source": [
    "a=['ball', 'cat', 'dog', 'fish', 'goat','ball']\n",
    "a.index('ball')"
   ]
  },
  {
   "cell_type": "code",
   "execution_count": 10,
   "id": "ea27939b",
   "metadata": {},
   "outputs": [
    {
     "name": "stdout",
     "output_type": "stream",
     "text": [
      "0\n",
      "5\n"
     ]
    }
   ],
   "source": [
    "a=['ball', 'cat', 'dog', 'fish', 'goat','ball']\n",
    "l=len(a)\n",
    "for i in range(l):\n",
    "    if a[i] == 'ball':\n",
    "        print(i)"
   ]
  },
  {
   "cell_type": "code",
   "execution_count": 1,
   "id": "fc557483",
   "metadata": {},
   "outputs": [
    {
     "name": "stdout",
     "output_type": "stream",
     "text": [
      "enter x=ball\n",
      "enter y=apple\n"
     ]
    },
    {
     "data": {
      "text/plain": [
       "['apple', 'cat', 'dog', 'fish', 'goat', 'apple']"
      ]
     },
     "execution_count": 1,
     "metadata": {},
     "output_type": "execute_result"
    }
   ],
   "source": [
    "a=['ball', 'cat', 'dog', 'fish', 'goat','ball']\n",
    "b=[]\n",
    "x=input(\"enter x=\")\n",
    "y=input(\"enter y=\")\n",
    "for i in a:\n",
    "    if i ==x:\n",
    "        b.append(y)\n",
    "    else:\n",
    "        b.append(i)\n",
    "        \n",
    "b"
   ]
  },
  {
   "cell_type": "code",
   "execution_count": 2,
   "id": "eac2c971",
   "metadata": {},
   "outputs": [
    {
     "name": "stdout",
     "output_type": "stream",
     "text": [
      "yes 2\n"
     ]
    }
   ],
   "source": [
    "a=['ball', 'cat', 'dog', 'fish', 'goat','ball']\n",
    "if \"ball\" in a:\n",
    "    print(\"yes\",a.count(\"ball\"))"
   ]
  },
  {
   "cell_type": "code",
   "execution_count": null,
   "id": "52063fa5",
   "metadata": {},
   "outputs": [],
   "source": [
    "#wap to search any value inside a list\n"
   ]
  },
  {
   "cell_type": "code",
   "execution_count": 2,
   "id": "c2031cb6",
   "metadata": {},
   "outputs": [],
   "source": [
    "#list inside list (nested_list)\n",
    "a=[['ram',45,'kathmandu'],\n",
    "  ['sam',66,'bhaktapur'],\n",
    "  ['hari',44,'lalitpur']]\n",
    "\n",
    "b=[[1,2,3],\n",
    "  [4,5,6],\n",
    "  [7,8,9]]"
   ]
  },
  {
   "cell_type": "code",
   "execution_count": 1,
   "id": "d9917239",
   "metadata": {},
   "outputs": [],
   "source": [
    "a=[['ram',45,'kathmandu'],\n",
    "  ['sam',66,'bhaktapur'],\n",
    "  ['hari',44,'lalitpur']]\n",
    "\n",
    "b=[[1,2,3],\n",
    "  [4,5,6],\n",
    "  [7,8,9]]"
   ]
  },
  {
   "cell_type": "code",
   "execution_count": 2,
   "id": "72ed6ea2",
   "metadata": {},
   "outputs": [
    {
     "data": {
      "text/plain": [
       "['ram', 45, 'kathmandu']"
      ]
     },
     "execution_count": 2,
     "metadata": {},
     "output_type": "execute_result"
    }
   ],
   "source": [
    "a[0]"
   ]
  },
  {
   "cell_type": "code",
   "execution_count": 3,
   "id": "864a5c58",
   "metadata": {},
   "outputs": [
    {
     "data": {
      "text/plain": [
       "45"
      ]
     },
     "execution_count": 3,
     "metadata": {},
     "output_type": "execute_result"
    }
   ],
   "source": [
    "a[0][1]"
   ]
  },
  {
   "cell_type": "code",
   "execution_count": 4,
   "id": "eb8daa3a",
   "metadata": {},
   "outputs": [
    {
     "data": {
      "text/plain": [
       "'bhaktapur'"
      ]
     },
     "execution_count": 4,
     "metadata": {},
     "output_type": "execute_result"
    }
   ],
   "source": [
    "a[1][2]"
   ]
  },
  {
   "cell_type": "code",
   "execution_count": 5,
   "id": "30e84b0c",
   "metadata": {},
   "outputs": [
    {
     "data": {
      "text/plain": [
       "[['ram', 45, 'kathmandu'],\n",
       " ['sam', 66, 'bhaktapur'],\n",
       " ['hari', 44, 'lalitpur'],\n",
       " ['sita', 22, 'bara']]"
      ]
     },
     "execution_count": 5,
     "metadata": {},
     "output_type": "execute_result"
    }
   ],
   "source": [
    "a.append(['sita',22,'bara'])\n",
    "a"
   ]
  },
  {
   "cell_type": "code",
   "execution_count": 5,
   "id": "b6d7fb03",
   "metadata": {},
   "outputs": [
    {
     "ename": "NameError",
     "evalue": "name 'a' is not defined",
     "output_type": "error",
     "traceback": [
      "\u001b[1;31m---------------------------------------------------------------------------\u001b[0m",
      "\u001b[1;31mNameError\u001b[0m                                 Traceback (most recent call last)",
      "Input \u001b[1;32mIn [5]\u001b[0m, in \u001b[0;36m<cell line: 1>\u001b[1;34m()\u001b[0m\n\u001b[1;32m----> 1\u001b[0m \u001b[43ma\u001b[49m\u001b[38;5;241m.\u001b[39minsert(\u001b[38;5;241m1\u001b[39m,[\u001b[38;5;124m'\u001b[39m\u001b[38;5;124mgita\u001b[39m\u001b[38;5;124m'\u001b[39m,\u001b[38;5;241m22\u001b[39m,\u001b[38;5;124m'\u001b[39m\u001b[38;5;124mjanakpur\u001b[39m\u001b[38;5;124m'\u001b[39m])\n\u001b[0;32m      2\u001b[0m a\n",
      "\u001b[1;31mNameError\u001b[0m: name 'a' is not defined"
     ]
    }
   ],
   "source": [
    "a.insert(1,['gita',22,'janakpur'])\n",
    "a"
   ]
  },
  {
   "cell_type": "code",
   "execution_count": 7,
   "id": "8790ef5e",
   "metadata": {},
   "outputs": [
    {
     "name": "stdout",
     "output_type": "stream",
     "text": [
      "['ram', 45, 'kathmandu']\n",
      "['gita', 22, 'janakpur']\n",
      "['sam', 66, 'bhaktapur']\n",
      "['hari', 44, 'lalitpur']\n",
      "['sita', 22, 'bara']\n"
     ]
    }
   ],
   "source": [
    "for i in a:\n",
    "    print(i)"
   ]
  },
  {
   "cell_type": "code",
   "execution_count": 6,
   "id": "d2d81790",
   "metadata": {},
   "outputs": [
    {
     "name": "stdout",
     "output_type": "stream",
     "text": [
      "enter name=ram\n",
      "['ram', 45, 'kathmandu']\n"
     ]
    }
   ],
   "source": [
    "a=[['ram', 45, 'kathmandu'],\n",
    "['gita', 22, 'janakpur'],\n",
    "['sam', 66, 'bhaktapur'],\n",
    "['hari', 44, 'lalitpur'],\n",
    "['sita', 22, 'bara']]\n",
    "search=input(\"enter name=\")\n",
    "for i in a:\n",
    "    if search in i:\n",
    "        print(i)"
   ]
  },
  {
   "cell_type": "code",
   "execution_count": 7,
   "id": "664a1e4a",
   "metadata": {},
   "outputs": [
    {
     "data": {
      "text/plain": [
       "[['rama', 56, 'dadaghau'],\n",
       " ['gita', 22, 'janakpur'],\n",
       " ['sam', 66, 'bhaktapur'],\n",
       " ['hari', 44, 'lalitpur'],\n",
       " ['sita', 22, 'bara']]"
      ]
     },
     "execution_count": 7,
     "metadata": {},
     "output_type": "execute_result"
    }
   ],
   "source": [
    "a[0]=['rama',56,'dadaghau']\n",
    "a"
   ]
  },
  {
   "cell_type": "code",
   "execution_count": 8,
   "id": "530104bf",
   "metadata": {},
   "outputs": [
    {
     "data": {
      "text/plain": [
       "[['rama', 56, 'dadaghau'],\n",
       " ['gita', 22, 'janakpur'],\n",
       " ['ramu', 66, 'bhaktapur'],\n",
       " ['hari', 44, 'lalitpur'],\n",
       " ['sita', 22, 'bara']]"
      ]
     },
     "execution_count": 8,
     "metadata": {},
     "output_type": "execute_result"
    }
   ],
   "source": [
    "a[2][0]='ramu'\n",
    "a"
   ]
  },
  {
   "cell_type": "code",
   "execution_count": null,
   "id": "1705ddf9",
   "metadata": {},
   "outputs": [],
   "source": [
    "#wap to create a matrix\n",
    "#r=?\n",
    "#c=?\n",
    "#x=?\n",
    "\n",
    "\n",
    "#wap to remove duplicate data in list inside list"
   ]
  }
 ],
 "metadata": {
  "kernelspec": {
   "display_name": "Python 3 (ipykernel)",
   "language": "python",
   "name": "python3"
  },
  "language_info": {
   "codemirror_mode": {
    "name": "ipython",
    "version": 3
   },
   "file_extension": ".py",
   "mimetype": "text/x-python",
   "name": "python",
   "nbconvert_exporter": "python",
   "pygments_lexer": "ipython3",
   "version": "3.9.12"
  }
 },
 "nbformat": 4,
 "nbformat_minor": 5
}
