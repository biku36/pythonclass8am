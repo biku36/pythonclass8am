{
 "cells": [
  {
   "cell_type": "code",
   "execution_count": null,
   "id": "e63c8ffd",
   "metadata": {},
   "outputs": [],
   "source": [
    "#python collection\n",
    "#list\n",
    "#tuple\n",
    "#set\n",
    "#dictionary"
   ]
  },
  {
   "cell_type": "code",
   "execution_count": null,
   "id": "1b28a30a",
   "metadata": {},
   "outputs": [],
   "source": [
    "#list"
   ]
  },
  {
   "cell_type": "code",
   "execution_count": null,
   "id": "cae0b34e",
   "metadata": {},
   "outputs": [],
   "source": [
    "#indexing ()\n",
    "#multiple data\n",
    "#duplicate data\n",
    "#ordered\n",
    "#mutable"
   ]
  },
  {
   "cell_type": "code",
   "execution_count": 2,
   "id": "acbbe52f",
   "metadata": {},
   "outputs": [
    {
     "name": "stdout",
     "output_type": "stream",
     "text": [
      "<class 'list'>\n",
      "<class 'list'>\n"
     ]
    }
   ],
   "source": [
    "a=[1,2,3,4,5]\n",
    "b=['apple','ball','cat']\n",
    "print(type(a))\n",
    "print(type(b))"
   ]
  },
  {
   "cell_type": "code",
   "execution_count": 1,
   "id": "80e515c6",
   "metadata": {},
   "outputs": [
    {
     "name": "stdout",
     "output_type": "stream",
     "text": [
      "<class 'list'>\n"
     ]
    }
   ],
   "source": [
    "a=[]\n",
    "a=list()\n",
    "print(type(a))"
   ]
  },
  {
   "cell_type": "code",
   "execution_count": 6,
   "id": "487b4208",
   "metadata": {},
   "outputs": [
    {
     "data": {
      "text/plain": [
       "'apple'"
      ]
     },
     "execution_count": 6,
     "metadata": {},
     "output_type": "execute_result"
    }
   ],
   "source": [
    "#indexing\n",
    "\n",
    "b=['apple','ball','cat']\n",
    "b[0]"
   ]
  },
  {
   "cell_type": "code",
   "execution_count": 1,
   "id": "c35cd870",
   "metadata": {},
   "outputs": [
    {
     "data": {
      "text/plain": [
       "'cat'"
      ]
     },
     "execution_count": 1,
     "metadata": {},
     "output_type": "execute_result"
    }
   ],
   "source": [
    "b=['apple','ball','cat']\n",
    "b[2]"
   ]
  },
  {
   "cell_type": "code",
   "execution_count": 4,
   "id": "4cd7ccc0",
   "metadata": {},
   "outputs": [
    {
     "data": {
      "text/plain": [
       "['apple']"
      ]
     },
     "execution_count": 4,
     "metadata": {},
     "output_type": "execute_result"
    }
   ],
   "source": [
    "b=['apple','ball','cat']\n",
    "b[0:1]"
   ]
  },
  {
   "cell_type": "code",
   "execution_count": 4,
   "id": "741236e7",
   "metadata": {},
   "outputs": [
    {
     "data": {
      "text/plain": [
       "1"
      ]
     },
     "execution_count": 4,
     "metadata": {},
     "output_type": "execute_result"
    }
   ],
   "source": [
    "len(b)"
   ]
  },
  {
   "cell_type": "code",
   "execution_count": null,
   "id": "4b92c395",
   "metadata": {},
   "outputs": [],
   "source": [
    "#ORDERED\n",
    "\n",
    "b=['apple','ball','cat']\n",
    "b"
   ]
  },
  {
   "cell_type": "code",
   "execution_count": 1,
   "id": "2414c382",
   "metadata": {},
   "outputs": [
    {
     "data": {
      "text/plain": [
       "['apple', 'ball', 'cat']"
      ]
     },
     "execution_count": 1,
     "metadata": {},
     "output_type": "execute_result"
    }
   ],
   "source": [
    "b=['apple','ball','cat']\n",
    "b"
   ]
  },
  {
   "cell_type": "code",
   "execution_count": 7,
   "id": "5b49effc",
   "metadata": {},
   "outputs": [
    {
     "name": "stdout",
     "output_type": "stream",
     "text": [
      "['apple', 'ball', 'cat', 'fish']\n"
     ]
    }
   ],
   "source": [
    "a=['apple','ball','cat']\n",
    "b=['fish']\n",
    "c=a+b\n",
    "print(c)"
   ]
  },
  {
   "cell_type": "code",
   "execution_count": 8,
   "id": "636e4336",
   "metadata": {},
   "outputs": [
    {
     "data": {
      "text/plain": [
       "['b', 'i', 'k', 'e', 's', 'h']"
      ]
     },
     "execution_count": 8,
     "metadata": {},
     "output_type": "execute_result"
    }
   ],
   "source": [
    "list('bikesh')"
   ]
  },
  {
   "cell_type": "code",
   "execution_count": null,
   "id": "810dc620",
   "metadata": {},
   "outputs": [],
   "source": [
    "#mutable\n"
   ]
  },
  {
   "cell_type": "code",
   "execution_count": 12,
   "id": "d3d88163",
   "metadata": {},
   "outputs": [
    {
     "data": {
      "text/plain": [
       "['APPLE', 'ball', 'cat', 'fish']"
      ]
     },
     "execution_count": 12,
     "metadata": {},
     "output_type": "execute_result"
    }
   ],
   "source": [
    "a=['apple', 'ball', 'cat', 'fish']\n",
    "a[0]='APPLE'\n",
    "a"
   ]
  },
  {
   "cell_type": "code",
   "execution_count": 13,
   "id": "444dced1",
   "metadata": {},
   "outputs": [
    {
     "name": "stdout",
     "output_type": "stream",
     "text": [
      "apple\n",
      "ball\n",
      "cat\n",
      "fish\n"
     ]
    }
   ],
   "source": [
    "a=['apple', 'ball', 'cat', 'fish']\n",
    "for i in a:\n",
    "    print(i)"
   ]
  },
  {
   "cell_type": "code",
   "execution_count": 18,
   "id": "8fa202bb",
   "metadata": {},
   "outputs": [
    {
     "name": "stdout",
     "output_type": "stream",
     "text": [
      "ball\n",
      "cat\n",
      "fish\n"
     ]
    }
   ],
   "source": [
    "a=['apple', 'ball', 'cat', 'fish']\n",
    "for i in a:\n",
    "        if i !='apple':\n",
    "            print(i)"
   ]
  },
  {
   "cell_type": "code",
   "execution_count": 3,
   "id": "76d37649",
   "metadata": {},
   "outputs": [
    {
     "name": "stdout",
     "output_type": "stream",
     "text": [
      "apple\n",
      "ball\n",
      "cat\n",
      "fish\n"
     ]
    }
   ],
   "source": [
    "a=['apple', 'ball', 'cat', 'fish']\n",
    "l=len(a)\n",
    "for i in range(l):\n",
    "            print(a[i])"
   ]
  },
  {
   "cell_type": "code",
   "execution_count": 36,
   "id": "12b2d85d",
   "metadata": {},
   "outputs": [
    {
     "name": "stdout",
     "output_type": "stream",
     "text": [
      "enter n=3\n",
      "enter x=200\n",
      "enter x=555\n",
      "enter x=499\n",
      "[200, 555, 499]\n"
     ]
    }
   ],
   "source": [
    "a=list()\n",
    "n=int(input(\"enter n=\"))\n",
    "for i in range(n):\n",
    "    x=int(input(\"enter x=\"))\n",
    "    a=a+[x]\n",
    "print(a)"
   ]
  },
  {
   "cell_type": "code",
   "execution_count": 37,
   "id": "d82571c7",
   "metadata": {},
   "outputs": [
    {
     "name": "stdout",
     "output_type": "stream",
     "text": [
      "the max value= 555\n",
      "the min value= 200\n",
      "the sum= 1254\n"
     ]
    }
   ],
   "source": [
    "print(\"the max value=\",max(a))\n",
    "print(\"the min value=\",min(a))\n",
    "print(\"the sum=\",sum(a))\n"
   ]
  },
  {
   "cell_type": "code",
   "execution_count": 38,
   "id": "320071be",
   "metadata": {},
   "outputs": [
    {
     "name": "stdout",
     "output_type": "stream",
     "text": [
      "the max value= 555\n",
      "the min value= 200\n",
      "the sum= 1254\n",
      "the avg= 418.0\n"
     ]
    }
   ],
   "source": [
    "print(\"the max value=\",max(a))\n",
    "print(\"the min value=\",min(a))\n",
    "print(\"the sum=\",sum(a))\n",
    "print(\"the avg=\",sum(a)/n)"
   ]
  },
  {
   "cell_type": "code",
   "execution_count": 39,
   "id": "bec333aa",
   "metadata": {},
   "outputs": [
    {
     "name": "stdout",
     "output_type": "stream",
     "text": [
      "the max value= 555\n",
      "the min value= 200\n",
      "the sum= 1254\n",
      "the avg= 418.0\n",
      "[200, 499, 555]\n"
     ]
    }
   ],
   "source": [
    "print(\"the max value=\",max(a))\n",
    "print(\"the min value=\",min(a))\n",
    "print(\"the sum=\",sum(a))\n",
    "print(\"the avg=\",sum(a)/n)\n",
    "a.sort()\n",
    "print(a)"
   ]
  },
  {
   "cell_type": "code",
   "execution_count": 40,
   "id": "8a6920e2",
   "metadata": {},
   "outputs": [
    {
     "name": "stdout",
     "output_type": "stream",
     "text": [
      "the max value= 555\n",
      "the min value= 200\n",
      "the sum= 1254\n",
      "the avg= 418.0\n",
      "[200, 499, 555]\n",
      "[555, 499, 200]\n"
     ]
    }
   ],
   "source": [
    "print(\"the max value=\",max(a))\n",
    "print(\"the min value=\",min(a))\n",
    "print(\"the sum=\",sum(a))\n",
    "print(\"the avg=\",sum(a)/n)\n",
    "a.sort()\n",
    "print(a)\n",
    "a.reverse()\n",
    "print(a)"
   ]
  },
  {
   "cell_type": "code",
   "execution_count": 42,
   "id": "d1428290",
   "metadata": {},
   "outputs": [
    {
     "data": {
      "text/plain": [
       "['Fish', 'apple', 'ball', 'cat']"
      ]
     },
     "execution_count": 42,
     "metadata": {},
     "output_type": "execute_result"
    }
   ],
   "source": [
    "a=['apple', 'ball', 'cat', 'Fish']\n",
    "a.sort()\n",
    "a"
   ]
  },
  {
   "cell_type": "code",
   "execution_count": 43,
   "id": "825593d2",
   "metadata": {},
   "outputs": [
    {
     "data": {
      "text/plain": [
       "['Fish', 'cat', 'ball', 'apple']"
      ]
     },
     "execution_count": 43,
     "metadata": {},
     "output_type": "execute_result"
    }
   ],
   "source": [
    "a=['apple', 'ball', 'cat', 'Fish']\n",
    "a.reverse()\n",
    "a"
   ]
  },
  {
   "cell_type": "code",
   "execution_count": null,
   "id": "238e8f57",
   "metadata": {},
   "outputs": [],
   "source": [
    "Add\n",
    "#append()  insert()  extend()\n",
    "\n",
    "delete\n",
    "#del  remove()   pop()\n",
    "\n",
    "for indexing\n",
    "#index()\n",
    "\n",
    "value counting\n",
    "#count()\n",
    "\n",
    "calculation\n",
    "#sum()  max()  min()\n",
    "\n",
    "sorting\n",
    "#sort()  sorted()"
   ]
  }
 ],
 "metadata": {
  "kernelspec": {
   "display_name": "Python 3 (ipykernel)",
   "language": "python",
   "name": "python3"
  },
  "language_info": {
   "codemirror_mode": {
    "name": "ipython",
    "version": 3
   },
   "file_extension": ".py",
   "mimetype": "text/x-python",
   "name": "python",
   "nbconvert_exporter": "python",
   "pygments_lexer": "ipython3",
   "version": "3.9.12"
  }
 },
 "nbformat": 4,
 "nbformat_minor": 5
}
