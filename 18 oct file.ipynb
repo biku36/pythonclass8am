{
 "cells": [
  {
   "cell_type": "code",
   "execution_count": 1,
   "id": "02833ead",
   "metadata": {},
   "outputs": [],
   "source": [
    "#file=<open('<file_path>','<mode>')\n",
    "#file.clode()"
   ]
  },
  {
   "cell_type": "code",
   "execution_count": 2,
   "id": "e8a3f0bd",
   "metadata": {},
   "outputs": [],
   "source": [
    "#with open('<file_name>','<mode>')as file:\n",
    "#        <operations>"
   ]
  },
  {
   "cell_type": "code",
   "execution_count": 3,
   "id": "612ecdbb",
   "metadata": {},
   "outputs": [],
   "source": [
    "#mode\n",
    "#read-----'r'\n",
    "#creat-----'x'\n",
    "#write-=----'w'\n",
    "#append-==='a'\n"
   ]
  },
  {
   "cell_type": "code",
   "execution_count": 8,
   "id": "b457032e",
   "metadata": {},
   "outputs": [
    {
     "name": "stdout",
     "output_type": "stream",
     "text": [
      "the file is already created\n"
     ]
    }
   ],
   "source": [
    "try:\n",
    "    \n",
    "    file= open('new_file.txt','x')\n",
    "    file.close()\n",
    "except:\n",
    "    print(\"the file is already created\")"
   ]
  },
  {
   "cell_type": "code",
   "execution_count": 9,
   "id": "de0a3f8a",
   "metadata": {},
   "outputs": [
    {
     "name": "stdout",
     "output_type": "stream",
     "text": [
      "1. hello world\n",
      "2. hello world\n",
      "\n"
     ]
    }
   ],
   "source": [
    "#read file\n",
    "\n",
    "file= open('new_file.txt','r')\n",
    "x=file.read()\n",
    "print(x)\n",
    "file.close()"
   ]
  },
  {
   "cell_type": "code",
   "execution_count": 10,
   "id": "0867cd3a",
   "metadata": {},
   "outputs": [
    {
     "data": {
      "text/plain": [
       "['1. hello world', '2. hello world', '']"
      ]
     },
     "execution_count": 10,
     "metadata": {},
     "output_type": "execute_result"
    }
   ],
   "source": [
    "x.split('\\n')"
   ]
  },
  {
   "cell_type": "code",
   "execution_count": 1,
   "id": "e3601db7",
   "metadata": {},
   "outputs": [
    {
     "name": "stdout",
     "output_type": "stream",
     "text": [
      "enter n:1\n"
     ]
    },
    {
     "ename": "NameError",
     "evalue": "name 'x' is not defined",
     "output_type": "error",
     "traceback": [
      "\u001b[1;31m---------------------------------------------------------------------------\u001b[0m",
      "\u001b[1;31mNameError\u001b[0m                                 Traceback (most recent call last)",
      "Input \u001b[1;32mIn [1]\u001b[0m, in \u001b[0;36m<cell line: 2>\u001b[1;34m()\u001b[0m\n\u001b[0;32m      1\u001b[0m n\u001b[38;5;241m=\u001b[39m\u001b[38;5;28mint\u001b[39m(\u001b[38;5;28minput\u001b[39m(\u001b[38;5;124m\"\u001b[39m\u001b[38;5;124menter n:\u001b[39m\u001b[38;5;124m\"\u001b[39m))\n\u001b[1;32m----> 2\u001b[0m \u001b[43mx\u001b[49m\u001b[38;5;241m.\u001b[39msplit(\u001b[38;5;124m'\u001b[39m\u001b[38;5;130;01m\\n\u001b[39;00m\u001b[38;5;124m'\u001b[39m)[n\u001b[38;5;241m-\u001b[39m\u001b[38;5;241m1\u001b[39m]\n",
      "\u001b[1;31mNameError\u001b[0m: name 'x' is not defined"
     ]
    }
   ],
   "source": [
    "n=int(input(\"enter n:\"))\n",
    "x.split('\\n')[n-1]"
   ]
  },
  {
   "cell_type": "code",
   "execution_count": 2,
   "id": "267ff664",
   "metadata": {},
   "outputs": [],
   "source": [
    "with open('data.txt','w')as file:\n",
    "    file.write('hello world')"
   ]
  },
  {
   "cell_type": "code",
   "execution_count": 1,
   "id": "74126987",
   "metadata": {},
   "outputs": [
    {
     "name": "stdout",
     "output_type": "stream",
     "text": [
      "enter n=2\n",
      "enter name=biku\n",
      "enter age=25\n",
      "enter add=ktm\n",
      "enter name=sam\n",
      "enter age=22\n",
      "enter add=kum\n"
     ]
    }
   ],
   "source": [
    "s=\"\"\n",
    "n= int(input(\"enter n=\"))\n",
    "for i in range(n):\n",
    "    name=input(\"enter name=\")\n",
    "    age=int(input(\"enter age=\"))\n",
    "    add=input(\"enter add=\")\n",
    "    s=s+f\"{name}{age}{add}\\n\"\n",
    "    \n",
    "with open('data.txt','w') as file:\n",
    "    file.write(s)"
   ]
  },
  {
   "cell_type": "code",
   "execution_count": null,
   "id": "51dd9695",
   "metadata": {},
   "outputs": [],
   "source": [
    "#csv  for excel file\n"
   ]
  },
  {
   "cell_type": "code",
   "execution_count": null,
   "id": "5a815ef4",
   "metadata": {},
   "outputs": [],
   "source": [
    "<!-- pip install padas--->\n",
    "\n",
    "import pandas as pd\n",
    "df=pd.read_csv('data.csv')\n",
    "df"
   ]
  },
  {
   "cell_type": "code",
   "execution_count": null,
   "id": "33e7e6d5",
   "metadata": {},
   "outputs": [],
   "source": [
    "import pandas as pd\n",
    "df=pd.read_csv('data.csv')\n",
    "df"
   ]
  },
  {
   "cell_type": "code",
   "execution_count": null,
   "id": "6b3e00d5",
   "metadata": {},
   "outputs": [],
   "source": []
  }
 ],
 "metadata": {
  "kernelspec": {
   "display_name": "Python 3 (ipykernel)",
   "language": "python",
   "name": "python3"
  },
  "language_info": {
   "codemirror_mode": {
    "name": "ipython",
    "version": 3
   },
   "file_extension": ".py",
   "mimetype": "text/x-python",
   "name": "python",
   "nbconvert_exporter": "python",
   "pygments_lexer": "ipython3",
   "version": "3.9.12"
  }
 },
 "nbformat": 4,
 "nbformat_minor": 5
}
